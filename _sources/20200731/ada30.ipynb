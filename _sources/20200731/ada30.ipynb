{
 "cells": [
  {
   "cell_type": "markdown",
   "metadata": {},
   "source": [
    "%%% metadata\n",
    "layout: post\n",
    "current: post\n",
    "cover: \n",
    "navigation: True\n",
    "title: 1 in 5 Americans with disabilities is in poverty. Even small basic incomes would help.\n",
    "date: 2020-07-31\n",
    "tags: [blog, disability, poverty]\n",
    "class: post-template\n",
    "subclass: 'post'\n",
    "author: [nate, max]\n",
    "%%%"
   ]
  },
  {
   "cell_type": "markdown",
   "metadata": {},
   "source": [
    "As the Americans with Disabilities Act reaches its 30th anniversary, we wanted to look beyond the workplace to poverty, safety net programs, and basic income. Today, more than 1 in 5 Americans with disabilities live below the poverty threshold, nearly twice the rate of Americans without disabilities.\n",
    "\n",
    "While America provides some income support to its citizens with disabilities through Supplemental Security Income (SSI) and Social Security Disability Insurance (SSDI), these programs inevitably leave many out.  Today, 22% of households with people with disabilities do not receive any federal government assistance.  Further, just 14% of households of families where someone is disabled collected SSI, a program “designed to help aged, blind, and [disabled people](https://www.ssa.gov/ssi/), who have little or no income.”  Unemployment insurance was the only program in our analysis that was more likely to go to families without people with disabilities"
   ]
  },
  {
   "cell_type": "code",
   "execution_count": 1,
   "metadata": {
    "tags": [
     "hide-input"
    ]
   },
   "outputs": [
    {
     "data": {
      "application/vnd.plotly.v1+json": {
       "config": {
        "displayModeBar": false,
        "plotlyServerURL": "https://plot.ly"
       },
       "data": [
        {
         "alignmentgroup": "True",
         "hovertemplate": "disability_text=No disability<br>Percent receiving benefit=%{text}<br>Benefit=%{y}<extra></extra>",
         "legendgroup": "No disability",
         "marker": {
          "color": "#BDBDBD"
         },
         "name": "No disability",
         "offsetgroup": "No disability",
         "orientation": "h",
         "showlegend": true,
         "text": [
          0.6,
          2,
          2.6,
          2.9,
          7.5,
          24.9,
          33.6
         ],
         "textposition": "auto",
         "texttemplate": "%{text}%",
         "type": "bar",
         "x": [
          0.6,
          2,
          2.6,
          2.9,
          7.5,
          24.9,
          33.6
         ],
         "xaxis": "x",
         "y": [
          "TANF",
          "Housing Assistance",
          "Unemployment",
          "Supplemental Security Income",
          "SNAP",
          "Social Security",
          "Any"
         ],
         "yaxis": "y"
        },
        {
         "alignmentgroup": "True",
         "hovertemplate": "disability_text=Has disability<br>Percent receiving benefit=%{text}<br>Benefit=%{y}<extra></extra>",
         "legendgroup": "Has disability",
         "marker": {
          "color": "#1976D2"
         },
         "name": "Has disability",
         "offsetgroup": "Has disability",
         "orientation": "h",
         "showlegend": true,
         "text": [
          0.9,
          2.2,
          7.7,
          13.7,
          18.2,
          65.1,
          78.3
         ],
         "textposition": "auto",
         "texttemplate": "%{text}%",
         "type": "bar",
         "x": [
          0.9,
          2.2,
          7.7,
          13.7,
          18.2,
          65.1,
          78.3
         ],
         "xaxis": "x",
         "y": [
          "TANF",
          "Unemployment",
          "Housing Assistance",
          "Supplemental Security Income",
          "SNAP",
          "Social Security",
          "Any"
         ],
         "yaxis": "y"
        }
       ],
       "layout": {
        "barmode": "group",
        "font": {
         "family": "Roboto"
        },
        "legend": {
         "title": {
          "text": ""
         },
         "tracegroupgap": 0,
         "traceorder": "reversed"
        },
        "plot_bgcolor": "white",
        "template": {
         "data": {
          "bar": [
           {
            "error_x": {
             "color": "#2a3f5f"
            },
            "error_y": {
             "color": "#2a3f5f"
            },
            "marker": {
             "line": {
              "color": "#E5ECF6",
              "width": 0.5
             }
            },
            "type": "bar"
           }
          ],
          "barpolar": [
           {
            "marker": {
             "line": {
              "color": "#E5ECF6",
              "width": 0.5
             }
            },
            "type": "barpolar"
           }
          ],
          "carpet": [
           {
            "aaxis": {
             "endlinecolor": "#2a3f5f",
             "gridcolor": "white",
             "linecolor": "white",
             "minorgridcolor": "white",
             "startlinecolor": "#2a3f5f"
            },
            "baxis": {
             "endlinecolor": "#2a3f5f",
             "gridcolor": "white",
             "linecolor": "white",
             "minorgridcolor": "white",
             "startlinecolor": "#2a3f5f"
            },
            "type": "carpet"
           }
          ],
          "choropleth": [
           {
            "colorbar": {
             "outlinewidth": 0,
             "ticks": ""
            },
            "type": "choropleth"
           }
          ],
          "contour": [
           {
            "colorbar": {
             "outlinewidth": 0,
             "ticks": ""
            },
            "colorscale": [
             [
              0,
              "#0d0887"
             ],
             [
              0.1111111111111111,
              "#46039f"
             ],
             [
              0.2222222222222222,
              "#7201a8"
             ],
             [
              0.3333333333333333,
              "#9c179e"
             ],
             [
              0.4444444444444444,
              "#bd3786"
             ],
             [
              0.5555555555555556,
              "#d8576b"
             ],
             [
              0.6666666666666666,
              "#ed7953"
             ],
             [
              0.7777777777777778,
              "#fb9f3a"
             ],
             [
              0.8888888888888888,
              "#fdca26"
             ],
             [
              1,
              "#f0f921"
             ]
            ],
            "type": "contour"
           }
          ],
          "contourcarpet": [
           {
            "colorbar": {
             "outlinewidth": 0,
             "ticks": ""
            },
            "type": "contourcarpet"
           }
          ],
          "heatmap": [
           {
            "colorbar": {
             "outlinewidth": 0,
             "ticks": ""
            },
            "colorscale": [
             [
              0,
              "#0d0887"
             ],
             [
              0.1111111111111111,
              "#46039f"
             ],
             [
              0.2222222222222222,
              "#7201a8"
             ],
             [
              0.3333333333333333,
              "#9c179e"
             ],
             [
              0.4444444444444444,
              "#bd3786"
             ],
             [
              0.5555555555555556,
              "#d8576b"
             ],
             [
              0.6666666666666666,
              "#ed7953"
             ],
             [
              0.7777777777777778,
              "#fb9f3a"
             ],
             [
              0.8888888888888888,
              "#fdca26"
             ],
             [
              1,
              "#f0f921"
             ]
            ],
            "type": "heatmap"
           }
          ],
          "heatmapgl": [
           {
            "colorbar": {
             "outlinewidth": 0,
             "ticks": ""
            },
            "colorscale": [
             [
              0,
              "#0d0887"
             ],
             [
              0.1111111111111111,
              "#46039f"
             ],
             [
              0.2222222222222222,
              "#7201a8"
             ],
             [
              0.3333333333333333,
              "#9c179e"
             ],
             [
              0.4444444444444444,
              "#bd3786"
             ],
             [
              0.5555555555555556,
              "#d8576b"
             ],
             [
              0.6666666666666666,
              "#ed7953"
             ],
             [
              0.7777777777777778,
              "#fb9f3a"
             ],
             [
              0.8888888888888888,
              "#fdca26"
             ],
             [
              1,
              "#f0f921"
             ]
            ],
            "type": "heatmapgl"
           }
          ],
          "histogram": [
           {
            "marker": {
             "colorbar": {
              "outlinewidth": 0,
              "ticks": ""
             }
            },
            "type": "histogram"
           }
          ],
          "histogram2d": [
           {
            "colorbar": {
             "outlinewidth": 0,
             "ticks": ""
            },
            "colorscale": [
             [
              0,
              "#0d0887"
             ],
             [
              0.1111111111111111,
              "#46039f"
             ],
             [
              0.2222222222222222,
              "#7201a8"
             ],
             [
              0.3333333333333333,
              "#9c179e"
             ],
             [
              0.4444444444444444,
              "#bd3786"
             ],
             [
              0.5555555555555556,
              "#d8576b"
             ],
             [
              0.6666666666666666,
              "#ed7953"
             ],
             [
              0.7777777777777778,
              "#fb9f3a"
             ],
             [
              0.8888888888888888,
              "#fdca26"
             ],
             [
              1,
              "#f0f921"
             ]
            ],
            "type": "histogram2d"
           }
          ],
          "histogram2dcontour": [
           {
            "colorbar": {
             "outlinewidth": 0,
             "ticks": ""
            },
            "colorscale": [
             [
              0,
              "#0d0887"
             ],
             [
              0.1111111111111111,
              "#46039f"
             ],
             [
              0.2222222222222222,
              "#7201a8"
             ],
             [
              0.3333333333333333,
              "#9c179e"
             ],
             [
              0.4444444444444444,
              "#bd3786"
             ],
             [
              0.5555555555555556,
              "#d8576b"
             ],
             [
              0.6666666666666666,
              "#ed7953"
             ],
             [
              0.7777777777777778,
              "#fb9f3a"
             ],
             [
              0.8888888888888888,
              "#fdca26"
             ],
             [
              1,
              "#f0f921"
             ]
            ],
            "type": "histogram2dcontour"
           }
          ],
          "mesh3d": [
           {
            "colorbar": {
             "outlinewidth": 0,
             "ticks": ""
            },
            "type": "mesh3d"
           }
          ],
          "parcoords": [
           {
            "line": {
             "colorbar": {
              "outlinewidth": 0,
              "ticks": ""
             }
            },
            "type": "parcoords"
           }
          ],
          "pie": [
           {
            "automargin": true,
            "type": "pie"
           }
          ],
          "scatter": [
           {
            "marker": {
             "colorbar": {
              "outlinewidth": 0,
              "ticks": ""
             }
            },
            "type": "scatter"
           }
          ],
          "scatter3d": [
           {
            "line": {
             "colorbar": {
              "outlinewidth": 0,
              "ticks": ""
             }
            },
            "marker": {
             "colorbar": {
              "outlinewidth": 0,
              "ticks": ""
             }
            },
            "type": "scatter3d"
           }
          ],
          "scattercarpet": [
           {
            "marker": {
             "colorbar": {
              "outlinewidth": 0,
              "ticks": ""
             }
            },
            "type": "scattercarpet"
           }
          ],
          "scattergeo": [
           {
            "marker": {
             "colorbar": {
              "outlinewidth": 0,
              "ticks": ""
             }
            },
            "type": "scattergeo"
           }
          ],
          "scattergl": [
           {
            "marker": {
             "colorbar": {
              "outlinewidth": 0,
              "ticks": ""
             }
            },
            "type": "scattergl"
           }
          ],
          "scattermapbox": [
           {
            "marker": {
             "colorbar": {
              "outlinewidth": 0,
              "ticks": ""
             }
            },
            "type": "scattermapbox"
           }
          ],
          "scatterpolar": [
           {
            "marker": {
             "colorbar": {
              "outlinewidth": 0,
              "ticks": ""
             }
            },
            "type": "scatterpolar"
           }
          ],
          "scatterpolargl": [
           {
            "marker": {
             "colorbar": {
              "outlinewidth": 0,
              "ticks": ""
             }
            },
            "type": "scatterpolargl"
           }
          ],
          "scatterternary": [
           {
            "marker": {
             "colorbar": {
              "outlinewidth": 0,
              "ticks": ""
             }
            },
            "type": "scatterternary"
           }
          ],
          "surface": [
           {
            "colorbar": {
             "outlinewidth": 0,
             "ticks": ""
            },
            "colorscale": [
             [
              0,
              "#0d0887"
             ],
             [
              0.1111111111111111,
              "#46039f"
             ],
             [
              0.2222222222222222,
              "#7201a8"
             ],
             [
              0.3333333333333333,
              "#9c179e"
             ],
             [
              0.4444444444444444,
              "#bd3786"
             ],
             [
              0.5555555555555556,
              "#d8576b"
             ],
             [
              0.6666666666666666,
              "#ed7953"
             ],
             [
              0.7777777777777778,
              "#fb9f3a"
             ],
             [
              0.8888888888888888,
              "#fdca26"
             ],
             [
              1,
              "#f0f921"
             ]
            ],
            "type": "surface"
           }
          ],
          "table": [
           {
            "cells": {
             "fill": {
              "color": "#EBF0F8"
             },
             "line": {
              "color": "white"
             }
            },
            "header": {
             "fill": {
              "color": "#C8D4E3"
             },
             "line": {
              "color": "white"
             }
            },
            "type": "table"
           }
          ]
         },
         "layout": {
          "annotationdefaults": {
           "arrowcolor": "#2a3f5f",
           "arrowhead": 0,
           "arrowwidth": 1
          },
          "coloraxis": {
           "colorbar": {
            "outlinewidth": 0,
            "ticks": ""
           }
          },
          "colorscale": {
           "diverging": [
            [
             0,
             "#8e0152"
            ],
            [
             0.1,
             "#c51b7d"
            ],
            [
             0.2,
             "#de77ae"
            ],
            [
             0.3,
             "#f1b6da"
            ],
            [
             0.4,
             "#fde0ef"
            ],
            [
             0.5,
             "#f7f7f7"
            ],
            [
             0.6,
             "#e6f5d0"
            ],
            [
             0.7,
             "#b8e186"
            ],
            [
             0.8,
             "#7fbc41"
            ],
            [
             0.9,
             "#4d9221"
            ],
            [
             1,
             "#276419"
            ]
           ],
           "sequential": [
            [
             0,
             "#0d0887"
            ],
            [
             0.1111111111111111,
             "#46039f"
            ],
            [
             0.2222222222222222,
             "#7201a8"
            ],
            [
             0.3333333333333333,
             "#9c179e"
            ],
            [
             0.4444444444444444,
             "#bd3786"
            ],
            [
             0.5555555555555556,
             "#d8576b"
            ],
            [
             0.6666666666666666,
             "#ed7953"
            ],
            [
             0.7777777777777778,
             "#fb9f3a"
            ],
            [
             0.8888888888888888,
             "#fdca26"
            ],
            [
             1,
             "#f0f921"
            ]
           ],
           "sequentialminus": [
            [
             0,
             "#0d0887"
            ],
            [
             0.1111111111111111,
             "#46039f"
            ],
            [
             0.2222222222222222,
             "#7201a8"
            ],
            [
             0.3333333333333333,
             "#9c179e"
            ],
            [
             0.4444444444444444,
             "#bd3786"
            ],
            [
             0.5555555555555556,
             "#d8576b"
            ],
            [
             0.6666666666666666,
             "#ed7953"
            ],
            [
             0.7777777777777778,
             "#fb9f3a"
            ],
            [
             0.8888888888888888,
             "#fdca26"
            ],
            [
             1,
             "#f0f921"
            ]
           ]
          },
          "colorway": [
           "#636efa",
           "#EF553B",
           "#00cc96",
           "#ab63fa",
           "#FFA15A",
           "#19d3f3",
           "#FF6692",
           "#B6E880",
           "#FF97FF",
           "#FECB52"
          ],
          "font": {
           "color": "#2a3f5f"
          },
          "geo": {
           "bgcolor": "white",
           "lakecolor": "white",
           "landcolor": "#E5ECF6",
           "showlakes": true,
           "showland": true,
           "subunitcolor": "white"
          },
          "hoverlabel": {
           "align": "left"
          },
          "hovermode": "closest",
          "mapbox": {
           "style": "light"
          },
          "paper_bgcolor": "white",
          "plot_bgcolor": "#E5ECF6",
          "polar": {
           "angularaxis": {
            "gridcolor": "white",
            "linecolor": "white",
            "ticks": ""
           },
           "bgcolor": "#E5ECF6",
           "radialaxis": {
            "gridcolor": "white",
            "linecolor": "white",
            "ticks": ""
           }
          },
          "scene": {
           "xaxis": {
            "backgroundcolor": "#E5ECF6",
            "gridcolor": "white",
            "gridwidth": 2,
            "linecolor": "white",
            "showbackground": true,
            "ticks": "",
            "zerolinecolor": "white"
           },
           "yaxis": {
            "backgroundcolor": "#E5ECF6",
            "gridcolor": "white",
            "gridwidth": 2,
            "linecolor": "white",
            "showbackground": true,
            "ticks": "",
            "zerolinecolor": "white"
           },
           "zaxis": {
            "backgroundcolor": "#E5ECF6",
            "gridcolor": "white",
            "gridwidth": 2,
            "linecolor": "white",
            "showbackground": true,
            "ticks": "",
            "zerolinecolor": "white"
           }
          },
          "shapedefaults": {
           "line": {
            "color": "#2a3f5f"
           }
          },
          "ternary": {
           "aaxis": {
            "gridcolor": "white",
            "linecolor": "white",
            "ticks": ""
           },
           "baxis": {
            "gridcolor": "white",
            "linecolor": "white",
            "ticks": ""
           },
           "bgcolor": "#E5ECF6",
           "caxis": {
            "gridcolor": "white",
            "linecolor": "white",
            "ticks": ""
           }
          },
          "title": {
           "x": 0.05
          },
          "xaxis": {
           "automargin": true,
           "gridcolor": "white",
           "linecolor": "white",
           "ticks": "",
           "title": {
            "standoff": 15
           },
           "zerolinecolor": "white",
           "zerolinewidth": 2
          },
          "yaxis": {
           "automargin": true,
           "gridcolor": "white",
           "linecolor": "white",
           "ticks": "",
           "title": {
            "standoff": 15
           },
           "zerolinecolor": "white",
           "zerolinewidth": 2
          }
         }
        },
        "title": {
         "text": "Share of Americans in families receiving benefits"
        },
        "xaxis": {
         "anchor": "y",
         "domain": [
          0,
          1
         ],
         "ticksuffix": "%",
         "title": {
          "text": "Percent receiving benefit"
         }
        },
        "yaxis": {
         "anchor": "x",
         "domain": [
          0,
          1
         ],
         "title": {
          "text": ""
         }
        }
       }
      }
     },
     "metadata": {},
     "output_type": "display_data"
    }
   ],
   "source": [
    "\n",
    "### LOAD PACKAGES ####\n",
    "\n",
    "import pandas as pd\n",
    "import plotly.express as px\n",
    "import microdf as mdf\n",
    "import numpy as np\n",
    "\n",
    "### COLORS ###\n",
    "\n",
    "# Colors from https://material.io/design/color/the-color-system.html\n",
    "BLUE = '#1976D2'\n",
    "DARK_BLUE = '#0D47A1'\n",
    "BARELY_BLUE = '#E3F2FD'\n",
    "GRAY = '#BDBDBD'\n",
    "\n",
    "\n",
    "### LOAD DATA ###\n",
    "\n",
    "person_raw = pd.read_csv('https://github.com/MaxGhenis/datarepo/raw/master/pppub19.csv.gz',\n",
    "                         usecols=['MARSUPWT', 'SPM_ID', 'SPM_RESOURCES',\n",
    "                                  'SPM_POVTHRESHOLD', 'A_AGE', 'PEDISDRS',\n",
    "                                  'PEDISEAR', 'PEDISEYE', 'PEDISOUT',\n",
    "                                  'PEDISPHY', 'PEDISREM', 'SPM_NUMPER',\n",
    "                                  'SS_VAL', 'SSI_VAL', 'SPM_SNAPSUB',\n",
    "                                  'PAW_TYP', 'SPM_CAPHOUSESUB', 'UC_VAL'])\n",
    "\n",
    "### PREPROCESS ###\n",
    "\n",
    "person = person_raw.copy(deep = True)\n",
    "person.columns = person.columns.str.lower()\n",
    "person['weight'] = person.marsupwt / 100\n",
    "# Create a new dataframe that only includes adults.\n",
    "adults = person[person['a_age'] > 17].copy(deep=True)\n",
    "\n",
    "# Create a column that shows if people have any disabilities.\n",
    "adults['any_disability'] = ((adults.pedisdrs == 1) | \n",
    "                            (adults.pedisear == 1) | \n",
    "                            (adults.pediseye == 1) |\n",
    "                            (adults.pedisout == 1) | \n",
    "                            (adults.pedisphy == 1) |\n",
    "                            (adults.pedisrem == 1))\n",
    "\n",
    "# Map the ASEC codes to disability types.\n",
    "PWD_MAP = ({'pedisdrs': 'Self-care',\n",
    "            'pedisear': 'Hearing',\n",
    "            'pediseye': 'Vision',\n",
    "            'pedisout': 'Mobility',\n",
    "            'pedisphy': 'Physical',\n",
    "            'pedisrem': 'Cognitive',\n",
    "            'any_disability': 'Any'\n",
    "           })\n",
    "\n",
    "# group individual questions by spm group\n",
    "adults['got_tanf'] = np.where(adults.paw_typ == 1, 1, 0)\n",
    "PERSON_SPM_COLS = ['ss_val', 'ssi_val', 'uc_val', 'got_tanf']\n",
    "groups = adults.groupby('spm_id')[PERSON_SPM_COLS].sum()\n",
    "groups.columns = ['spm_' + i for i in PERSON_SPM_COLS]\n",
    "adults2 = adults.merge(groups, left_on='spm_id', right_index=True)\n",
    "# Also look into OI_OFF column: Value 3 = AFDC\n",
    "\n",
    "# All PWD records.\n",
    "adults_pwd = adults2[adults2.any_disability]\n",
    "\n",
    "# Note these columns don't represent anything consistent\n",
    "# except that >0 values indicate that the SPM unit received it.\n",
    "\n",
    "# create a columns map\n",
    "BEN_MAP = ({'spm_ss_val': 'Social Security', \n",
    "            'spm_ssi_val': 'Supplemental Security Income',\n",
    "            'spm_got_tanf': 'TANF',\n",
    "            'spm_uc_val': 'Unemployment',\n",
    "            'spm_snapsub': 'SNAP',\n",
    "            'spm_caphousesub': 'Housing Assistance',\n",
    "            'spm_any_ben': 'Any'\n",
    "            })\n",
    "\n",
    "# Sum up all columns except the last (which is any, itself).\n",
    "adults2['spm_any_ben'] = adults2[list(BEN_MAP.keys())[:-1]].sum(axis=1)\n",
    "\n",
    "\n",
    "# Create a function that calculates percent of people with disabilities\n",
    "# receiving each benefit.\n",
    "def percent_bens(ben_column, has_disability):\n",
    "    target_adults = adults2[adults2.any_disability == has_disability]\n",
    "    total_w_ben = ((target_adults[ben_column] > 0) * target_adults.weight)\n",
    "    return ((total_w_ben.sum() / target_adults.weight.sum()) * 100).round(1)\n",
    "\n",
    "def percent_bens_row(row):\n",
    "    return percent_bens(row.ben_column, row.has_disability)\n",
    "\n",
    "benefits = mdf.cartesian_product({'ben_column': BEN_MAP.keys(),\n",
    "                                  'has_disability': [True, False]\n",
    "                                  })\n",
    "\n",
    "benefits['percentage'] = benefits.apply(percent_bens_row, axis=1)\n",
    "benefits['benefit'] = benefits.ben_column.map(BEN_MAP)\n",
    "benefits = (benefits.sort_values(['percentage','benefit'],\n",
    "                               ascending=(True, True)))\n",
    "benefits['disability_text'] = np.where(benefits.has_disability,\n",
    "                                       'Has disability', 'No disability')\n",
    "\n",
    "fig = px.bar(benefits, x='percentage', y='benefit', color='disability_text',\n",
    "             labels={'percentage': 'Percent receiving benefit',\n",
    "                      'benefit': 'Benefit'},\n",
    "             title='Share of Americans in families receiving benefits',\n",
    "             text='percentage',\n",
    "             orientation='h',\n",
    "             barmode='group',\n",
    "             color_discrete_map={'Has disability': BLUE, 'No disability': GRAY}\n",
    ")\n",
    "\n",
    "fig.update_layout(barmode='group',\n",
    "                  font=dict(family='Roboto'),\n",
    "                  plot_bgcolor='white',\n",
    "                  yaxis_title='',\n",
    "                  legend_title='',\n",
    "                  xaxis_ticksuffix='%',\n",
    "                  legend={'traceorder': 'reversed'}\n",
    "                 )\n",
    "\n",
    "fig.update_traces(texttemplate='%{text}%')\n",
    "\n",
    "fig.show(config={'displayModeBar': False})"
   ]
  },
  {
   "cell_type": "markdown",
   "metadata": {},
   "source": [
    "Universal payments would ensure that all households receive government assistance.  The remainder of this paper examines how universal payments can alleviate poverty for Americans with disabilities.\n",
    "\n",
    "## Background\n",
    "To conduct this analysis, we used the most recent Current Population Survey March Supplement, which reflects 2018 income.  Using this data, we simulated how various UBI levels impact the poverty rate of Americans with a variety of disabilities. For reference, the chart below shows the amount of Americans identifying with each type of disability."
   ]
  },
  {
   "cell_type": "code",
   "execution_count": 2,
   "metadata": {
    "tags": [
     "hide-input"
    ]
   },
   "outputs": [
    {
     "data": {
      "application/vnd.plotly.v1+json": {
       "config": {
        "displayModeBar": false,
        "plotlyServerURL": "https://plot.ly"
       },
       "data": [
        {
         "alignmentgroup": "True",
         "hovertemplate": "disability_type=%{y}<br>total_millions=%{text}<extra></extra>",
         "legendgroup": "Any",
         "marker": {
          "color": "#0D47A1"
         },
         "name": "Any",
         "offsetgroup": "Any",
         "orientation": "h",
         "showlegend": true,
         "text": [
          29.7
         ],
         "textposition": "auto",
         "texttemplate": "%{text}M",
         "type": "bar",
         "x": [
          29.7
         ],
         "xaxis": "x",
         "y": [
          "Any"
         ],
         "yaxis": "y"
        },
        {
         "alignmentgroup": "True",
         "hovertemplate": "disability_type=%{y}<br>total_millions=%{text}<extra></extra>",
         "legendgroup": "Physical",
         "marker": {
          "color": "#1976D2"
         },
         "name": "Physical",
         "offsetgroup": "Physical",
         "orientation": "h",
         "showlegend": true,
         "text": [
          17.4
         ],
         "textposition": "auto",
         "texttemplate": "%{text}M",
         "type": "bar",
         "x": [
          17.4
         ],
         "xaxis": "x",
         "y": [
          "Physical"
         ],
         "yaxis": "y"
        },
        {
         "alignmentgroup": "True",
         "hovertemplate": "disability_type=%{y}<br>total_millions=%{text}<extra></extra>",
         "legendgroup": "Mobility",
         "marker": {
          "color": "#1976D2"
         },
         "name": "Mobility",
         "offsetgroup": "Mobility",
         "orientation": "h",
         "showlegend": true,
         "text": [
          10.5
         ],
         "textposition": "auto",
         "texttemplate": "%{text}M",
         "type": "bar",
         "x": [
          10.5
         ],
         "xaxis": "x",
         "y": [
          "Mobility"
         ],
         "yaxis": "y"
        },
        {
         "alignmentgroup": "True",
         "hovertemplate": "disability_type=%{y}<br>total_millions=%{text}<extra></extra>",
         "legendgroup": "Cognitive",
         "marker": {
          "color": "#1976D2"
         },
         "name": "Cognitive",
         "offsetgroup": "Cognitive",
         "orientation": "h",
         "showlegend": true,
         "text": [
          9.4
         ],
         "textposition": "auto",
         "texttemplate": "%{text}M",
         "type": "bar",
         "x": [
          9.4
         ],
         "xaxis": "x",
         "y": [
          "Cognitive"
         ],
         "yaxis": "y"
        },
        {
         "alignmentgroup": "True",
         "hovertemplate": "disability_type=%{y}<br>total_millions=%{text}<extra></extra>",
         "legendgroup": "Hearing",
         "marker": {
          "color": "#1976D2"
         },
         "name": "Hearing",
         "offsetgroup": "Hearing",
         "orientation": "h",
         "showlegend": true,
         "text": [
          8.8
         ],
         "textposition": "auto",
         "texttemplate": "%{text}M",
         "type": "bar",
         "x": [
          8.8
         ],
         "xaxis": "x",
         "y": [
          "Hearing"
         ],
         "yaxis": "y"
        },
        {
         "alignmentgroup": "True",
         "hovertemplate": "disability_type=%{y}<br>total_millions=%{text}<extra></extra>",
         "legendgroup": "Self-care",
         "marker": {
          "color": "#1976D2"
         },
         "name": "Self-care",
         "offsetgroup": "Self-care",
         "orientation": "h",
         "showlegend": true,
         "text": [
          5.3
         ],
         "textposition": "auto",
         "texttemplate": "%{text}M",
         "type": "bar",
         "x": [
          5.3
         ],
         "xaxis": "x",
         "y": [
          "Self-care"
         ],
         "yaxis": "y"
        },
        {
         "alignmentgroup": "True",
         "hovertemplate": "disability_type=%{y}<br>total_millions=%{text}<extra></extra>",
         "legendgroup": "Vision",
         "marker": {
          "color": "#1976D2"
         },
         "name": "Vision",
         "offsetgroup": "Vision",
         "orientation": "h",
         "showlegend": true,
         "text": [
          4.3
         ],
         "textposition": "auto",
         "texttemplate": "%{text}M",
         "type": "bar",
         "x": [
          4.3
         ],
         "xaxis": "x",
         "y": [
          "Vision"
         ],
         "yaxis": "y"
        }
       ],
       "layout": {
        "barmode": "relative",
        "font": {
         "family": "Roboto"
        },
        "legend": {
         "title": {
          "text": "disability_type"
         },
         "tracegroupgap": 0
        },
        "plot_bgcolor": "white",
        "showlegend": false,
        "template": {
         "data": {
          "bar": [
           {
            "error_x": {
             "color": "#2a3f5f"
            },
            "error_y": {
             "color": "#2a3f5f"
            },
            "marker": {
             "line": {
              "color": "#E5ECF6",
              "width": 0.5
             }
            },
            "type": "bar"
           }
          ],
          "barpolar": [
           {
            "marker": {
             "line": {
              "color": "#E5ECF6",
              "width": 0.5
             }
            },
            "type": "barpolar"
           }
          ],
          "carpet": [
           {
            "aaxis": {
             "endlinecolor": "#2a3f5f",
             "gridcolor": "white",
             "linecolor": "white",
             "minorgridcolor": "white",
             "startlinecolor": "#2a3f5f"
            },
            "baxis": {
             "endlinecolor": "#2a3f5f",
             "gridcolor": "white",
             "linecolor": "white",
             "minorgridcolor": "white",
             "startlinecolor": "#2a3f5f"
            },
            "type": "carpet"
           }
          ],
          "choropleth": [
           {
            "colorbar": {
             "outlinewidth": 0,
             "ticks": ""
            },
            "type": "choropleth"
           }
          ],
          "contour": [
           {
            "colorbar": {
             "outlinewidth": 0,
             "ticks": ""
            },
            "colorscale": [
             [
              0,
              "#0d0887"
             ],
             [
              0.1111111111111111,
              "#46039f"
             ],
             [
              0.2222222222222222,
              "#7201a8"
             ],
             [
              0.3333333333333333,
              "#9c179e"
             ],
             [
              0.4444444444444444,
              "#bd3786"
             ],
             [
              0.5555555555555556,
              "#d8576b"
             ],
             [
              0.6666666666666666,
              "#ed7953"
             ],
             [
              0.7777777777777778,
              "#fb9f3a"
             ],
             [
              0.8888888888888888,
              "#fdca26"
             ],
             [
              1,
              "#f0f921"
             ]
            ],
            "type": "contour"
           }
          ],
          "contourcarpet": [
           {
            "colorbar": {
             "outlinewidth": 0,
             "ticks": ""
            },
            "type": "contourcarpet"
           }
          ],
          "heatmap": [
           {
            "colorbar": {
             "outlinewidth": 0,
             "ticks": ""
            },
            "colorscale": [
             [
              0,
              "#0d0887"
             ],
             [
              0.1111111111111111,
              "#46039f"
             ],
             [
              0.2222222222222222,
              "#7201a8"
             ],
             [
              0.3333333333333333,
              "#9c179e"
             ],
             [
              0.4444444444444444,
              "#bd3786"
             ],
             [
              0.5555555555555556,
              "#d8576b"
             ],
             [
              0.6666666666666666,
              "#ed7953"
             ],
             [
              0.7777777777777778,
              "#fb9f3a"
             ],
             [
              0.8888888888888888,
              "#fdca26"
             ],
             [
              1,
              "#f0f921"
             ]
            ],
            "type": "heatmap"
           }
          ],
          "heatmapgl": [
           {
            "colorbar": {
             "outlinewidth": 0,
             "ticks": ""
            },
            "colorscale": [
             [
              0,
              "#0d0887"
             ],
             [
              0.1111111111111111,
              "#46039f"
             ],
             [
              0.2222222222222222,
              "#7201a8"
             ],
             [
              0.3333333333333333,
              "#9c179e"
             ],
             [
              0.4444444444444444,
              "#bd3786"
             ],
             [
              0.5555555555555556,
              "#d8576b"
             ],
             [
              0.6666666666666666,
              "#ed7953"
             ],
             [
              0.7777777777777778,
              "#fb9f3a"
             ],
             [
              0.8888888888888888,
              "#fdca26"
             ],
             [
              1,
              "#f0f921"
             ]
            ],
            "type": "heatmapgl"
           }
          ],
          "histogram": [
           {
            "marker": {
             "colorbar": {
              "outlinewidth": 0,
              "ticks": ""
             }
            },
            "type": "histogram"
           }
          ],
          "histogram2d": [
           {
            "colorbar": {
             "outlinewidth": 0,
             "ticks": ""
            },
            "colorscale": [
             [
              0,
              "#0d0887"
             ],
             [
              0.1111111111111111,
              "#46039f"
             ],
             [
              0.2222222222222222,
              "#7201a8"
             ],
             [
              0.3333333333333333,
              "#9c179e"
             ],
             [
              0.4444444444444444,
              "#bd3786"
             ],
             [
              0.5555555555555556,
              "#d8576b"
             ],
             [
              0.6666666666666666,
              "#ed7953"
             ],
             [
              0.7777777777777778,
              "#fb9f3a"
             ],
             [
              0.8888888888888888,
              "#fdca26"
             ],
             [
              1,
              "#f0f921"
             ]
            ],
            "type": "histogram2d"
           }
          ],
          "histogram2dcontour": [
           {
            "colorbar": {
             "outlinewidth": 0,
             "ticks": ""
            },
            "colorscale": [
             [
              0,
              "#0d0887"
             ],
             [
              0.1111111111111111,
              "#46039f"
             ],
             [
              0.2222222222222222,
              "#7201a8"
             ],
             [
              0.3333333333333333,
              "#9c179e"
             ],
             [
              0.4444444444444444,
              "#bd3786"
             ],
             [
              0.5555555555555556,
              "#d8576b"
             ],
             [
              0.6666666666666666,
              "#ed7953"
             ],
             [
              0.7777777777777778,
              "#fb9f3a"
             ],
             [
              0.8888888888888888,
              "#fdca26"
             ],
             [
              1,
              "#f0f921"
             ]
            ],
            "type": "histogram2dcontour"
           }
          ],
          "mesh3d": [
           {
            "colorbar": {
             "outlinewidth": 0,
             "ticks": ""
            },
            "type": "mesh3d"
           }
          ],
          "parcoords": [
           {
            "line": {
             "colorbar": {
              "outlinewidth": 0,
              "ticks": ""
             }
            },
            "type": "parcoords"
           }
          ],
          "pie": [
           {
            "automargin": true,
            "type": "pie"
           }
          ],
          "scatter": [
           {
            "marker": {
             "colorbar": {
              "outlinewidth": 0,
              "ticks": ""
             }
            },
            "type": "scatter"
           }
          ],
          "scatter3d": [
           {
            "line": {
             "colorbar": {
              "outlinewidth": 0,
              "ticks": ""
             }
            },
            "marker": {
             "colorbar": {
              "outlinewidth": 0,
              "ticks": ""
             }
            },
            "type": "scatter3d"
           }
          ],
          "scattercarpet": [
           {
            "marker": {
             "colorbar": {
              "outlinewidth": 0,
              "ticks": ""
             }
            },
            "type": "scattercarpet"
           }
          ],
          "scattergeo": [
           {
            "marker": {
             "colorbar": {
              "outlinewidth": 0,
              "ticks": ""
             }
            },
            "type": "scattergeo"
           }
          ],
          "scattergl": [
           {
            "marker": {
             "colorbar": {
              "outlinewidth": 0,
              "ticks": ""
             }
            },
            "type": "scattergl"
           }
          ],
          "scattermapbox": [
           {
            "marker": {
             "colorbar": {
              "outlinewidth": 0,
              "ticks": ""
             }
            },
            "type": "scattermapbox"
           }
          ],
          "scatterpolar": [
           {
            "marker": {
             "colorbar": {
              "outlinewidth": 0,
              "ticks": ""
             }
            },
            "type": "scatterpolar"
           }
          ],
          "scatterpolargl": [
           {
            "marker": {
             "colorbar": {
              "outlinewidth": 0,
              "ticks": ""
             }
            },
            "type": "scatterpolargl"
           }
          ],
          "scatterternary": [
           {
            "marker": {
             "colorbar": {
              "outlinewidth": 0,
              "ticks": ""
             }
            },
            "type": "scatterternary"
           }
          ],
          "surface": [
           {
            "colorbar": {
             "outlinewidth": 0,
             "ticks": ""
            },
            "colorscale": [
             [
              0,
              "#0d0887"
             ],
             [
              0.1111111111111111,
              "#46039f"
             ],
             [
              0.2222222222222222,
              "#7201a8"
             ],
             [
              0.3333333333333333,
              "#9c179e"
             ],
             [
              0.4444444444444444,
              "#bd3786"
             ],
             [
              0.5555555555555556,
              "#d8576b"
             ],
             [
              0.6666666666666666,
              "#ed7953"
             ],
             [
              0.7777777777777778,
              "#fb9f3a"
             ],
             [
              0.8888888888888888,
              "#fdca26"
             ],
             [
              1,
              "#f0f921"
             ]
            ],
            "type": "surface"
           }
          ],
          "table": [
           {
            "cells": {
             "fill": {
              "color": "#EBF0F8"
             },
             "line": {
              "color": "white"
             }
            },
            "header": {
             "fill": {
              "color": "#C8D4E3"
             },
             "line": {
              "color": "white"
             }
            },
            "type": "table"
           }
          ]
         },
         "layout": {
          "annotationdefaults": {
           "arrowcolor": "#2a3f5f",
           "arrowhead": 0,
           "arrowwidth": 1
          },
          "coloraxis": {
           "colorbar": {
            "outlinewidth": 0,
            "ticks": ""
           }
          },
          "colorscale": {
           "diverging": [
            [
             0,
             "#8e0152"
            ],
            [
             0.1,
             "#c51b7d"
            ],
            [
             0.2,
             "#de77ae"
            ],
            [
             0.3,
             "#f1b6da"
            ],
            [
             0.4,
             "#fde0ef"
            ],
            [
             0.5,
             "#f7f7f7"
            ],
            [
             0.6,
             "#e6f5d0"
            ],
            [
             0.7,
             "#b8e186"
            ],
            [
             0.8,
             "#7fbc41"
            ],
            [
             0.9,
             "#4d9221"
            ],
            [
             1,
             "#276419"
            ]
           ],
           "sequential": [
            [
             0,
             "#0d0887"
            ],
            [
             0.1111111111111111,
             "#46039f"
            ],
            [
             0.2222222222222222,
             "#7201a8"
            ],
            [
             0.3333333333333333,
             "#9c179e"
            ],
            [
             0.4444444444444444,
             "#bd3786"
            ],
            [
             0.5555555555555556,
             "#d8576b"
            ],
            [
             0.6666666666666666,
             "#ed7953"
            ],
            [
             0.7777777777777778,
             "#fb9f3a"
            ],
            [
             0.8888888888888888,
             "#fdca26"
            ],
            [
             1,
             "#f0f921"
            ]
           ],
           "sequentialminus": [
            [
             0,
             "#0d0887"
            ],
            [
             0.1111111111111111,
             "#46039f"
            ],
            [
             0.2222222222222222,
             "#7201a8"
            ],
            [
             0.3333333333333333,
             "#9c179e"
            ],
            [
             0.4444444444444444,
             "#bd3786"
            ],
            [
             0.5555555555555556,
             "#d8576b"
            ],
            [
             0.6666666666666666,
             "#ed7953"
            ],
            [
             0.7777777777777778,
             "#fb9f3a"
            ],
            [
             0.8888888888888888,
             "#fdca26"
            ],
            [
             1,
             "#f0f921"
            ]
           ]
          },
          "colorway": [
           "#636efa",
           "#EF553B",
           "#00cc96",
           "#ab63fa",
           "#FFA15A",
           "#19d3f3",
           "#FF6692",
           "#B6E880",
           "#FF97FF",
           "#FECB52"
          ],
          "font": {
           "color": "#2a3f5f"
          },
          "geo": {
           "bgcolor": "white",
           "lakecolor": "white",
           "landcolor": "#E5ECF6",
           "showlakes": true,
           "showland": true,
           "subunitcolor": "white"
          },
          "hoverlabel": {
           "align": "left"
          },
          "hovermode": "closest",
          "mapbox": {
           "style": "light"
          },
          "paper_bgcolor": "white",
          "plot_bgcolor": "#E5ECF6",
          "polar": {
           "angularaxis": {
            "gridcolor": "white",
            "linecolor": "white",
            "ticks": ""
           },
           "bgcolor": "#E5ECF6",
           "radialaxis": {
            "gridcolor": "white",
            "linecolor": "white",
            "ticks": ""
           }
          },
          "scene": {
           "xaxis": {
            "backgroundcolor": "#E5ECF6",
            "gridcolor": "white",
            "gridwidth": 2,
            "linecolor": "white",
            "showbackground": true,
            "ticks": "",
            "zerolinecolor": "white"
           },
           "yaxis": {
            "backgroundcolor": "#E5ECF6",
            "gridcolor": "white",
            "gridwidth": 2,
            "linecolor": "white",
            "showbackground": true,
            "ticks": "",
            "zerolinecolor": "white"
           },
           "zaxis": {
            "backgroundcolor": "#E5ECF6",
            "gridcolor": "white",
            "gridwidth": 2,
            "linecolor": "white",
            "showbackground": true,
            "ticks": "",
            "zerolinecolor": "white"
           }
          },
          "shapedefaults": {
           "line": {
            "color": "#2a3f5f"
           }
          },
          "ternary": {
           "aaxis": {
            "gridcolor": "white",
            "linecolor": "white",
            "ticks": ""
           },
           "baxis": {
            "gridcolor": "white",
            "linecolor": "white",
            "ticks": ""
           },
           "bgcolor": "#E5ECF6",
           "caxis": {
            "gridcolor": "white",
            "linecolor": "white",
            "ticks": ""
           }
          },
          "title": {
           "x": 0.05
          },
          "xaxis": {
           "automargin": true,
           "gridcolor": "white",
           "linecolor": "white",
           "ticks": "",
           "title": {
            "standoff": 15
           },
           "zerolinecolor": "white",
           "zerolinewidth": 2
          },
          "yaxis": {
           "automargin": true,
           "gridcolor": "white",
           "linecolor": "white",
           "ticks": "",
           "title": {
            "standoff": 15
           },
           "zerolinecolor": "white",
           "zerolinewidth": 2
          }
         }
        },
        "title": {
         "text": "Number of adults reporting each disability type"
        },
        "xaxis": {
         "anchor": "y",
         "domain": [
          0,
          1
         ],
         "ticksuffix": "M",
         "title": {
          "text": ""
         }
        },
        "yaxis": {
         "anchor": "x",
         "categoryarray": [
          "Vision",
          "Self-care",
          "Hearing",
          "Cognitive",
          "Mobility",
          "Physical",
          "Any"
         ],
         "categoryorder": "array",
         "domain": [
          0,
          1
         ],
         "title": {
          "text": ""
         }
        }
       }
      }
     },
     "metadata": {},
     "output_type": "display_data"
    }
   ],
   "source": [
    "\n",
    "# data for bar graph that shows amount of people with each disability\n",
    "\n",
    "total_cognitive_m = (adults.weight * (adults.pedisrem==1)).sum()/1e6\n",
    "total_mobility_m = (adults.weight * (adults.pedisout==1)).sum()/1e6\n",
    "total_self_care_m = (adults.weight * (adults.pedisdrs==1)).sum()/1e6\n",
    "total_physical_m = (adults.weight * (adults.pedisphy==1)).sum()/1e6 \n",
    "total_vision_m = (adults.weight * (adults.pediseye==1)).sum()/1e6\n",
    "total_hearing_m = (adults.weight* (adults.pedisear==1)).sum()/1e6\n",
    "total_pwd_m = (adults.weight * adults.any_disability).sum()/1e6\n",
    "total_pwd = (adults.weight * adults.any_disability).sum()\n",
    "\n",
    "total_dict = {'disability_type': ['Cognitive', 'Mobility', 'Self-care', 'Physical',\n",
    "                       'Vision', 'Hearing', 'Any'],\n",
    "              'total_millions': [total_cognitive_m, total_mobility_m, total_self_care_m, \n",
    "                        total_physical_m, total_vision_m, total_hearing_m,\n",
    "                        total_pwd_m] \n",
    "}\n",
    "\n",
    "total_df = pd.DataFrame(total_dict)\n",
    "total_df = total_df.round(1)\n",
    "total_df = (total_df.sort_values(['total_millions','disability_type'],\n",
    "                               ascending=(False, True)))\n",
    "\n",
    "fig = px.bar(total_df, x = 'total_millions', y='disability_type',\n",
    "             title='Number of adults reporting each disability type',\n",
    "             color='disability_type',\n",
    "             text='total_millions',\n",
    "             orientation = 'h',\n",
    "             color_discrete_map={'Cognitive': BLUE,\n",
    "                                 'Mobility': BLUE,\n",
    "                                 'Self-care': BLUE,\n",
    "                                 'Physical': BLUE,\n",
    "                                 'Vision': BLUE,\n",
    "                                 'Hearing': BLUE,\n",
    "                                 'Any': DARK_BLUE})\n",
    "\n",
    "fig.update_layout(showlegend=False,\n",
    "                  xaxis_ticksuffix='M',\n",
    "                  font=dict(family='Roboto'),\n",
    "                  plot_bgcolor='white',\n",
    "                  xaxis_title='',\n",
    "                  yaxis_title=''\n",
    "                 )\n",
    "fig.update_traces(texttemplate='%{text}M')\n",
    "\n",
    "fig.show(config={'displayModeBar': False})"
   ]
  },
  {
   "cell_type": "markdown",
   "metadata": {},
   "source": [
    "## Findings\n",
    "We found that  a UBI has the potential to drastically reduce poverty among adults with disabilities and that a \\$300 monthly UBI would cut the poverty rate in half, from 20.7 percent to 9.2 percent.  A UBI of \\$1,000 per month, such as in [Andrew Yang's Freedom Dividend](https://www.ubicenter.org/plans), would shrink the poverty rate among people with disabilities to 1.3 percent.\n",
    " \n",
    "With the status quo, poverty rates are highest among people with cognitive, physical, and self-care disabilities, which all exceed 24 percent.  A UBI of \\$500 per month would slash all these rates below 7 percent, a third of their current level.  \n",
    "\n",
    "The interactive chart below shows the poverty rate for each group with various monthly UBI levels up to \\$1,000 at \\$100 intervals."
   ]
  },
  {
   "cell_type": "code",
   "execution_count": 3,
   "metadata": {
    "tags": [
     "hide-input"
    ]
   },
   "outputs": [
    {
     "data": {
      "application/vnd.plotly.v1+json": {
       "config": {
        "displayModeBar": false,
        "plotlyServerURL": "https://plot.ly"
       },
       "data": [
        {
         "alignmentgroup": "True",
         "hovertemplate": "poverty_in_out=People in poverty<br>Monthly UBI=0<br>SPM poverty rate=%{x}<br>Disability type=%{y}<extra></extra>",
         "legendgroup": "People in poverty",
         "marker": {
          "color": "#1976D2"
         },
         "name": "People in poverty",
         "offsetgroup": "People in poverty",
         "orientation": "h",
         "showlegend": true,
         "textposition": "auto",
         "type": "bar",
         "x": [
          14.6,
          20.7,
          22,
          22.2,
          24.1,
          24.1,
          24.8
         ],
         "xaxis": "x",
         "y": [
          "Hearing",
          "Any",
          "Vision",
          "Physical",
          "Mobility",
          "Self-care",
          "Cognitive"
         ],
         "yaxis": "y"
        },
        {
         "alignmentgroup": "True",
         "hovertemplate": "poverty_in_out=People no longer in poverty<br>Monthly UBI=0<br>SPM poverty rate=%{x}<br>Disability type=%{y}<extra></extra>",
         "legendgroup": "People no longer in poverty",
         "marker": {
          "color": "#E3F2FD"
         },
         "name": "People no longer in poverty",
         "offsetgroup": "People no longer in poverty",
         "orientation": "h",
         "showlegend": true,
         "textposition": "auto",
         "type": "bar",
         "x": [
          0,
          0,
          0,
          0,
          0,
          0,
          0
         ],
         "xaxis": "x",
         "y": [
          "Hearing",
          "Any",
          "Vision",
          "Physical",
          "Mobility",
          "Self-care",
          "Cognitive"
         ],
         "yaxis": "y"
        }
       ],
       "frames": [
        {
         "data": [
          {
           "alignmentgroup": "True",
           "hovertemplate": "poverty_in_out=People in poverty<br>Monthly UBI=0<br>SPM poverty rate=%{x}<br>Disability type=%{y}<extra></extra>",
           "legendgroup": "People in poverty",
           "marker": {
            "color": "#1976D2"
           },
           "name": "People in poverty",
           "offsetgroup": "People in poverty",
           "orientation": "h",
           "showlegend": true,
           "textposition": "auto",
           "type": "bar",
           "x": [
            14.6,
            20.7,
            22,
            22.2,
            24.1,
            24.1,
            24.8
           ],
           "xaxis": "x",
           "y": [
            "Hearing",
            "Any",
            "Vision",
            "Physical",
            "Mobility",
            "Self-care",
            "Cognitive"
           ],
           "yaxis": "y"
          },
          {
           "alignmentgroup": "True",
           "hovertemplate": "poverty_in_out=People no longer in poverty<br>Monthly UBI=0<br>SPM poverty rate=%{x}<br>Disability type=%{y}<extra></extra>",
           "legendgroup": "People no longer in poverty",
           "marker": {
            "color": "#E3F2FD"
           },
           "name": "People no longer in poverty",
           "offsetgroup": "People no longer in poverty",
           "orientation": "h",
           "showlegend": true,
           "textposition": "auto",
           "type": "bar",
           "x": [
            0,
            0,
            0,
            0,
            0,
            0,
            0
           ],
           "xaxis": "x",
           "y": [
            "Hearing",
            "Any",
            "Vision",
            "Physical",
            "Mobility",
            "Self-care",
            "Cognitive"
           ],
           "yaxis": "y"
          }
         ],
         "name": "0"
        },
        {
         "data": [
          {
           "alignmentgroup": "True",
           "hovertemplate": "poverty_in_out=People in poverty<br>Monthly UBI=100<br>SPM poverty rate=%{x}<br>Disability type=%{y}<extra></extra>",
           "legendgroup": "People in poverty",
           "marker": {
            "color": "#1976D2"
           },
           "name": "People in poverty",
           "offsetgroup": "People in poverty",
           "orientation": "h",
           "showlegend": true,
           "textposition": "auto",
           "type": "bar",
           "x": [
            11.2,
            15.6,
            16.5,
            16.7,
            17.9,
            18.8,
            18.6
           ],
           "xaxis": "x",
           "y": [
            "Hearing",
            "Any",
            "Vision",
            "Physical",
            "Mobility",
            "Self-care",
            "Cognitive"
           ],
           "yaxis": "y"
          },
          {
           "alignmentgroup": "True",
           "hovertemplate": "poverty_in_out=People no longer in poverty<br>Monthly UBI=100<br>SPM poverty rate=%{x}<br>Disability type=%{y}<extra></extra>",
           "legendgroup": "People no longer in poverty",
           "marker": {
            "color": "#E3F2FD"
           },
           "name": "People no longer in poverty",
           "offsetgroup": "People no longer in poverty",
           "orientation": "h",
           "showlegend": true,
           "textposition": "auto",
           "type": "bar",
           "x": [
            3.4,
            5.1,
            5.5,
            5.5,
            6.2,
            5.3,
            6.2
           ],
           "xaxis": "x",
           "y": [
            "Hearing",
            "Any",
            "Vision",
            "Physical",
            "Mobility",
            "Self-care",
            "Cognitive"
           ],
           "yaxis": "y"
          }
         ],
         "name": "100"
        },
        {
         "data": [
          {
           "alignmentgroup": "True",
           "hovertemplate": "poverty_in_out=People in poverty<br>Monthly UBI=200<br>SPM poverty rate=%{x}<br>Disability type=%{y}<extra></extra>",
           "legendgroup": "People in poverty",
           "marker": {
            "color": "#1976D2"
           },
           "name": "People in poverty",
           "offsetgroup": "People in poverty",
           "orientation": "h",
           "showlegend": true,
           "textposition": "auto",
           "type": "bar",
           "x": [
            8.7,
            12,
            12.6,
            12.9,
            13.8,
            14.6,
            14
           ],
           "xaxis": "x",
           "y": [
            "Hearing",
            "Any",
            "Vision",
            "Physical",
            "Mobility",
            "Self-care",
            "Cognitive"
           ],
           "yaxis": "y"
          },
          {
           "alignmentgroup": "True",
           "hovertemplate": "poverty_in_out=People no longer in poverty<br>Monthly UBI=200<br>SPM poverty rate=%{x}<br>Disability type=%{y}<extra></extra>",
           "legendgroup": "People no longer in poverty",
           "marker": {
            "color": "#E3F2FD"
           },
           "name": "People no longer in poverty",
           "offsetgroup": "People no longer in poverty",
           "orientation": "h",
           "showlegend": true,
           "textposition": "auto",
           "type": "bar",
           "x": [
            5.9,
            8.7,
            9.4,
            9.3,
            10.3,
            9.5,
            10.8
           ],
           "xaxis": "x",
           "y": [
            "Hearing",
            "Any",
            "Vision",
            "Physical",
            "Mobility",
            "Self-care",
            "Cognitive"
           ],
           "yaxis": "y"
          }
         ],
         "name": "200"
        },
        {
         "data": [
          {
           "alignmentgroup": "True",
           "hovertemplate": "poverty_in_out=People in poverty<br>Monthly UBI=300<br>SPM poverty rate=%{x}<br>Disability type=%{y}<extra></extra>",
           "legendgroup": "People in poverty",
           "marker": {
            "color": "#1976D2"
           },
           "name": "People in poverty",
           "offsetgroup": "People in poverty",
           "orientation": "h",
           "showlegend": true,
           "textposition": "auto",
           "type": "bar",
           "x": [
            7,
            9.2,
            9.3,
            9.9,
            10.4,
            11.1,
            10.4
           ],
           "xaxis": "x",
           "y": [
            "Hearing",
            "Any",
            "Vision",
            "Physical",
            "Mobility",
            "Self-care",
            "Cognitive"
           ],
           "yaxis": "y"
          },
          {
           "alignmentgroup": "True",
           "hovertemplate": "poverty_in_out=People no longer in poverty<br>Monthly UBI=300<br>SPM poverty rate=%{x}<br>Disability type=%{y}<extra></extra>",
           "legendgroup": "People no longer in poverty",
           "marker": {
            "color": "#E3F2FD"
           },
           "name": "People no longer in poverty",
           "offsetgroup": "People no longer in poverty",
           "orientation": "h",
           "showlegend": true,
           "textposition": "auto",
           "type": "bar",
           "x": [
            7.6,
            11.5,
            12.7,
            12.3,
            13.7,
            13,
            14.4
           ],
           "xaxis": "x",
           "y": [
            "Hearing",
            "Any",
            "Vision",
            "Physical",
            "Mobility",
            "Self-care",
            "Cognitive"
           ],
           "yaxis": "y"
          }
         ],
         "name": "300"
        },
        {
         "data": [
          {
           "alignmentgroup": "True",
           "hovertemplate": "poverty_in_out=People in poverty<br>Monthly UBI=400<br>SPM poverty rate=%{x}<br>Disability type=%{y}<extra></extra>",
           "legendgroup": "People in poverty",
           "marker": {
            "color": "#1976D2"
           },
           "name": "People in poverty",
           "offsetgroup": "People in poverty",
           "orientation": "h",
           "showlegend": true,
           "textposition": "auto",
           "type": "bar",
           "x": [
            5.4,
            7.2,
            6.8,
            7.7,
            7.8,
            8.4,
            8.3
           ],
           "xaxis": "x",
           "y": [
            "Hearing",
            "Any",
            "Vision",
            "Physical",
            "Mobility",
            "Self-care",
            "Cognitive"
           ],
           "yaxis": "y"
          },
          {
           "alignmentgroup": "True",
           "hovertemplate": "poverty_in_out=People no longer in poverty<br>Monthly UBI=400<br>SPM poverty rate=%{x}<br>Disability type=%{y}<extra></extra>",
           "legendgroup": "People no longer in poverty",
           "marker": {
            "color": "#E3F2FD"
           },
           "name": "People no longer in poverty",
           "offsetgroup": "People no longer in poverty",
           "orientation": "h",
           "showlegend": true,
           "textposition": "auto",
           "type": "bar",
           "x": [
            9.2,
            13.5,
            15.2,
            14.5,
            16.3,
            15.7,
            16.5
           ],
           "xaxis": "x",
           "y": [
            "Hearing",
            "Any",
            "Vision",
            "Physical",
            "Mobility",
            "Self-care",
            "Cognitive"
           ],
           "yaxis": "y"
          }
         ],
         "name": "400"
        },
        {
         "data": [
          {
           "alignmentgroup": "True",
           "hovertemplate": "poverty_in_out=People in poverty<br>Monthly UBI=500<br>SPM poverty rate=%{x}<br>Disability type=%{y}<extra></extra>",
           "legendgroup": "People in poverty",
           "marker": {
            "color": "#1976D2"
           },
           "name": "People in poverty",
           "offsetgroup": "People in poverty",
           "orientation": "h",
           "showlegend": true,
           "textposition": "auto",
           "type": "bar",
           "x": [
            4.1,
            5.6,
            5.7,
            6.1,
            5.9,
            6.2,
            6.4
           ],
           "xaxis": "x",
           "y": [
            "Hearing",
            "Any",
            "Vision",
            "Physical",
            "Mobility",
            "Self-care",
            "Cognitive"
           ],
           "yaxis": "y"
          },
          {
           "alignmentgroup": "True",
           "hovertemplate": "poverty_in_out=People no longer in poverty<br>Monthly UBI=500<br>SPM poverty rate=%{x}<br>Disability type=%{y}<extra></extra>",
           "legendgroup": "People no longer in poverty",
           "marker": {
            "color": "#E3F2FD"
           },
           "name": "People no longer in poverty",
           "offsetgroup": "People no longer in poverty",
           "orientation": "h",
           "showlegend": true,
           "textposition": "auto",
           "type": "bar",
           "x": [
            10.5,
            15.1,
            16.3,
            16.1,
            18.2,
            17.9,
            18.4
           ],
           "xaxis": "x",
           "y": [
            "Hearing",
            "Any",
            "Vision",
            "Physical",
            "Mobility",
            "Self-care",
            "Cognitive"
           ],
           "yaxis": "y"
          }
         ],
         "name": "500"
        },
        {
         "data": [
          {
           "alignmentgroup": "True",
           "hovertemplate": "poverty_in_out=People in poverty<br>Monthly UBI=600<br>SPM poverty rate=%{x}<br>Disability type=%{y}<extra></extra>",
           "legendgroup": "People in poverty",
           "marker": {
            "color": "#1976D2"
           },
           "name": "People in poverty",
           "offsetgroup": "People in poverty",
           "orientation": "h",
           "showlegend": true,
           "textposition": "auto",
           "type": "bar",
           "x": [
            3.2,
            4.3,
            4.4,
            4.6,
            4.6,
            4.6,
            5
           ],
           "xaxis": "x",
           "y": [
            "Hearing",
            "Any",
            "Vision",
            "Physical",
            "Mobility",
            "Self-care",
            "Cognitive"
           ],
           "yaxis": "y"
          },
          {
           "alignmentgroup": "True",
           "hovertemplate": "poverty_in_out=People no longer in poverty<br>Monthly UBI=600<br>SPM poverty rate=%{x}<br>Disability type=%{y}<extra></extra>",
           "legendgroup": "People no longer in poverty",
           "marker": {
            "color": "#E3F2FD"
           },
           "name": "People no longer in poverty",
           "offsetgroup": "People no longer in poverty",
           "orientation": "h",
           "showlegend": true,
           "textposition": "auto",
           "type": "bar",
           "x": [
            11.4,
            16.4,
            17.6,
            17.6,
            19.5,
            19.5,
            19.8
           ],
           "xaxis": "x",
           "y": [
            "Hearing",
            "Any",
            "Vision",
            "Physical",
            "Mobility",
            "Self-care",
            "Cognitive"
           ],
           "yaxis": "y"
          }
         ],
         "name": "600"
        },
        {
         "data": [
          {
           "alignmentgroup": "True",
           "hovertemplate": "poverty_in_out=People in poverty<br>Monthly UBI=700<br>SPM poverty rate=%{x}<br>Disability type=%{y}<extra></extra>",
           "legendgroup": "People in poverty",
           "marker": {
            "color": "#1976D2"
           },
           "name": "People in poverty",
           "offsetgroup": "People in poverty",
           "orientation": "h",
           "showlegend": true,
           "textposition": "auto",
           "type": "bar",
           "x": [
            2.6,
            3.4,
            3.8,
            3.7,
            3.7,
            3.7,
            3.9
           ],
           "xaxis": "x",
           "y": [
            "Hearing",
            "Any",
            "Vision",
            "Physical",
            "Mobility",
            "Self-care",
            "Cognitive"
           ],
           "yaxis": "y"
          },
          {
           "alignmentgroup": "True",
           "hovertemplate": "poverty_in_out=People no longer in poverty<br>Monthly UBI=700<br>SPM poverty rate=%{x}<br>Disability type=%{y}<extra></extra>",
           "legendgroup": "People no longer in poverty",
           "marker": {
            "color": "#E3F2FD"
           },
           "name": "People no longer in poverty",
           "offsetgroup": "People no longer in poverty",
           "orientation": "h",
           "showlegend": true,
           "textposition": "auto",
           "type": "bar",
           "x": [
            12,
            17.3,
            18.2,
            18.5,
            20.4,
            20.4,
            20.9
           ],
           "xaxis": "x",
           "y": [
            "Hearing",
            "Any",
            "Vision",
            "Physical",
            "Mobility",
            "Self-care",
            "Cognitive"
           ],
           "yaxis": "y"
          }
         ],
         "name": "700"
        },
        {
         "data": [
          {
           "alignmentgroup": "True",
           "hovertemplate": "poverty_in_out=People in poverty<br>Monthly UBI=800<br>SPM poverty rate=%{x}<br>Disability type=%{y}<extra></extra>",
           "legendgroup": "People in poverty",
           "marker": {
            "color": "#1976D2"
           },
           "name": "People in poverty",
           "offsetgroup": "People in poverty",
           "orientation": "h",
           "showlegend": true,
           "textposition": "auto",
           "type": "bar",
           "x": [
            2,
            2.7,
            3,
            3,
            3.1,
            3,
            3
           ],
           "xaxis": "x",
           "y": [
            "Hearing",
            "Any",
            "Vision",
            "Physical",
            "Mobility",
            "Self-care",
            "Cognitive"
           ],
           "yaxis": "y"
          },
          {
           "alignmentgroup": "True",
           "hovertemplate": "poverty_in_out=People no longer in poverty<br>Monthly UBI=800<br>SPM poverty rate=%{x}<br>Disability type=%{y}<extra></extra>",
           "legendgroup": "People no longer in poverty",
           "marker": {
            "color": "#E3F2FD"
           },
           "name": "People no longer in poverty",
           "offsetgroup": "People no longer in poverty",
           "orientation": "h",
           "showlegend": true,
           "textposition": "auto",
           "type": "bar",
           "x": [
            12.6,
            18,
            19,
            19.2,
            21,
            21.1,
            21.8
           ],
           "xaxis": "x",
           "y": [
            "Hearing",
            "Any",
            "Vision",
            "Physical",
            "Mobility",
            "Self-care",
            "Cognitive"
           ],
           "yaxis": "y"
          }
         ],
         "name": "800"
        },
        {
         "data": [
          {
           "alignmentgroup": "True",
           "hovertemplate": "poverty_in_out=People in poverty<br>Monthly UBI=900<br>SPM poverty rate=%{x}<br>Disability type=%{y}<extra></extra>",
           "legendgroup": "People in poverty",
           "marker": {
            "color": "#1976D2"
           },
           "name": "People in poverty",
           "offsetgroup": "People in poverty",
           "orientation": "h",
           "showlegend": true,
           "textposition": "auto",
           "type": "bar",
           "x": [
            1.6,
            2,
            2.2,
            2.2,
            2.4,
            2.4,
            2.3
           ],
           "xaxis": "x",
           "y": [
            "Hearing",
            "Any",
            "Vision",
            "Physical",
            "Mobility",
            "Self-care",
            "Cognitive"
           ],
           "yaxis": "y"
          },
          {
           "alignmentgroup": "True",
           "hovertemplate": "poverty_in_out=People no longer in poverty<br>Monthly UBI=900<br>SPM poverty rate=%{x}<br>Disability type=%{y}<extra></extra>",
           "legendgroup": "People no longer in poverty",
           "marker": {
            "color": "#E3F2FD"
           },
           "name": "People no longer in poverty",
           "offsetgroup": "People no longer in poverty",
           "orientation": "h",
           "showlegend": true,
           "textposition": "auto",
           "type": "bar",
           "x": [
            13,
            18.7,
            19.8,
            20,
            21.7,
            21.7,
            22.5
           ],
           "xaxis": "x",
           "y": [
            "Hearing",
            "Any",
            "Vision",
            "Physical",
            "Mobility",
            "Self-care",
            "Cognitive"
           ],
           "yaxis": "y"
          }
         ],
         "name": "900"
        },
        {
         "data": [
          {
           "alignmentgroup": "True",
           "hovertemplate": "poverty_in_out=People in poverty<br>Monthly UBI=1000<br>SPM poverty rate=%{x}<br>Disability type=%{y}<extra></extra>",
           "legendgroup": "People in poverty",
           "marker": {
            "color": "#1976D2"
           },
           "name": "People in poverty",
           "offsetgroup": "People in poverty",
           "orientation": "h",
           "showlegend": true,
           "textposition": "auto",
           "type": "bar",
           "x": [
            1.1,
            1.3,
            1.3,
            1.5,
            1.5,
            1.6,
            1.3
           ],
           "xaxis": "x",
           "y": [
            "Hearing",
            "Any",
            "Vision",
            "Physical",
            "Mobility",
            "Self-care",
            "Cognitive"
           ],
           "yaxis": "y"
          },
          {
           "alignmentgroup": "True",
           "hovertemplate": "poverty_in_out=People no longer in poverty<br>Monthly UBI=1000<br>SPM poverty rate=%{x}<br>Disability type=%{y}<extra></extra>",
           "legendgroup": "People no longer in poverty",
           "marker": {
            "color": "#E3F2FD"
           },
           "name": "People no longer in poverty",
           "offsetgroup": "People no longer in poverty",
           "orientation": "h",
           "showlegend": true,
           "textposition": "auto",
           "type": "bar",
           "x": [
            13.5,
            19.4,
            20.7,
            20.7,
            22.6,
            22.5,
            23.5
           ],
           "xaxis": "x",
           "y": [
            "Hearing",
            "Any",
            "Vision",
            "Physical",
            "Mobility",
            "Self-care",
            "Cognitive"
           ],
           "yaxis": "y"
          }
         ],
         "name": "1000"
        }
       ],
       "layout": {
        "barmode": "relative",
        "font": {
         "family": "Roboto"
        },
        "legend": {
         "title": {
          "text": ""
         },
         "tracegroupgap": 0
        },
        "plot_bgcolor": "white",
        "sliders": [
         {
          "active": 0,
          "currentvalue": {
           "prefix": "Monthly UBI="
          },
          "len": 0.9,
          "pad": {
           "b": 10,
           "t": 60
          },
          "steps": [
           {
            "args": [
             [
              "0"
             ],
             {
              "frame": {
               "duration": 0,
               "redraw": true
              },
              "fromcurrent": true,
              "mode": "immediate",
              "transition": {
               "duration": 0,
               "easing": "linear"
              }
             }
            ],
            "label": "0",
            "method": "animate"
           },
           {
            "args": [
             [
              "100"
             ],
             {
              "frame": {
               "duration": 0,
               "redraw": true
              },
              "fromcurrent": true,
              "mode": "immediate",
              "transition": {
               "duration": 0,
               "easing": "linear"
              }
             }
            ],
            "label": "100",
            "method": "animate"
           },
           {
            "args": [
             [
              "200"
             ],
             {
              "frame": {
               "duration": 0,
               "redraw": true
              },
              "fromcurrent": true,
              "mode": "immediate",
              "transition": {
               "duration": 0,
               "easing": "linear"
              }
             }
            ],
            "label": "200",
            "method": "animate"
           },
           {
            "args": [
             [
              "300"
             ],
             {
              "frame": {
               "duration": 0,
               "redraw": true
              },
              "fromcurrent": true,
              "mode": "immediate",
              "transition": {
               "duration": 0,
               "easing": "linear"
              }
             }
            ],
            "label": "300",
            "method": "animate"
           },
           {
            "args": [
             [
              "400"
             ],
             {
              "frame": {
               "duration": 0,
               "redraw": true
              },
              "fromcurrent": true,
              "mode": "immediate",
              "transition": {
               "duration": 0,
               "easing": "linear"
              }
             }
            ],
            "label": "400",
            "method": "animate"
           },
           {
            "args": [
             [
              "500"
             ],
             {
              "frame": {
               "duration": 0,
               "redraw": true
              },
              "fromcurrent": true,
              "mode": "immediate",
              "transition": {
               "duration": 0,
               "easing": "linear"
              }
             }
            ],
            "label": "500",
            "method": "animate"
           },
           {
            "args": [
             [
              "600"
             ],
             {
              "frame": {
               "duration": 0,
               "redraw": true
              },
              "fromcurrent": true,
              "mode": "immediate",
              "transition": {
               "duration": 0,
               "easing": "linear"
              }
             }
            ],
            "label": "600",
            "method": "animate"
           },
           {
            "args": [
             [
              "700"
             ],
             {
              "frame": {
               "duration": 0,
               "redraw": true
              },
              "fromcurrent": true,
              "mode": "immediate",
              "transition": {
               "duration": 0,
               "easing": "linear"
              }
             }
            ],
            "label": "700",
            "method": "animate"
           },
           {
            "args": [
             [
              "800"
             ],
             {
              "frame": {
               "duration": 0,
               "redraw": true
              },
              "fromcurrent": true,
              "mode": "immediate",
              "transition": {
               "duration": 0,
               "easing": "linear"
              }
             }
            ],
            "label": "800",
            "method": "animate"
           },
           {
            "args": [
             [
              "900"
             ],
             {
              "frame": {
               "duration": 0,
               "redraw": true
              },
              "fromcurrent": true,
              "mode": "immediate",
              "transition": {
               "duration": 0,
               "easing": "linear"
              }
             }
            ],
            "label": "900",
            "method": "animate"
           },
           {
            "args": [
             [
              "1000"
             ],
             {
              "frame": {
               "duration": 0,
               "redraw": true
              },
              "fromcurrent": true,
              "mode": "immediate",
              "transition": {
               "duration": 0,
               "easing": "linear"
              }
             }
            ],
            "label": "1000",
            "method": "animate"
           }
          ],
          "x": 0.1,
          "xanchor": "left",
          "y": 0,
          "yanchor": "top"
         }
        ],
        "template": {
         "data": {
          "bar": [
           {
            "error_x": {
             "color": "#2a3f5f"
            },
            "error_y": {
             "color": "#2a3f5f"
            },
            "marker": {
             "line": {
              "color": "#E5ECF6",
              "width": 0.5
             }
            },
            "type": "bar"
           }
          ],
          "barpolar": [
           {
            "marker": {
             "line": {
              "color": "#E5ECF6",
              "width": 0.5
             }
            },
            "type": "barpolar"
           }
          ],
          "carpet": [
           {
            "aaxis": {
             "endlinecolor": "#2a3f5f",
             "gridcolor": "white",
             "linecolor": "white",
             "minorgridcolor": "white",
             "startlinecolor": "#2a3f5f"
            },
            "baxis": {
             "endlinecolor": "#2a3f5f",
             "gridcolor": "white",
             "linecolor": "white",
             "minorgridcolor": "white",
             "startlinecolor": "#2a3f5f"
            },
            "type": "carpet"
           }
          ],
          "choropleth": [
           {
            "colorbar": {
             "outlinewidth": 0,
             "ticks": ""
            },
            "type": "choropleth"
           }
          ],
          "contour": [
           {
            "colorbar": {
             "outlinewidth": 0,
             "ticks": ""
            },
            "colorscale": [
             [
              0,
              "#0d0887"
             ],
             [
              0.1111111111111111,
              "#46039f"
             ],
             [
              0.2222222222222222,
              "#7201a8"
             ],
             [
              0.3333333333333333,
              "#9c179e"
             ],
             [
              0.4444444444444444,
              "#bd3786"
             ],
             [
              0.5555555555555556,
              "#d8576b"
             ],
             [
              0.6666666666666666,
              "#ed7953"
             ],
             [
              0.7777777777777778,
              "#fb9f3a"
             ],
             [
              0.8888888888888888,
              "#fdca26"
             ],
             [
              1,
              "#f0f921"
             ]
            ],
            "type": "contour"
           }
          ],
          "contourcarpet": [
           {
            "colorbar": {
             "outlinewidth": 0,
             "ticks": ""
            },
            "type": "contourcarpet"
           }
          ],
          "heatmap": [
           {
            "colorbar": {
             "outlinewidth": 0,
             "ticks": ""
            },
            "colorscale": [
             [
              0,
              "#0d0887"
             ],
             [
              0.1111111111111111,
              "#46039f"
             ],
             [
              0.2222222222222222,
              "#7201a8"
             ],
             [
              0.3333333333333333,
              "#9c179e"
             ],
             [
              0.4444444444444444,
              "#bd3786"
             ],
             [
              0.5555555555555556,
              "#d8576b"
             ],
             [
              0.6666666666666666,
              "#ed7953"
             ],
             [
              0.7777777777777778,
              "#fb9f3a"
             ],
             [
              0.8888888888888888,
              "#fdca26"
             ],
             [
              1,
              "#f0f921"
             ]
            ],
            "type": "heatmap"
           }
          ],
          "heatmapgl": [
           {
            "colorbar": {
             "outlinewidth": 0,
             "ticks": ""
            },
            "colorscale": [
             [
              0,
              "#0d0887"
             ],
             [
              0.1111111111111111,
              "#46039f"
             ],
             [
              0.2222222222222222,
              "#7201a8"
             ],
             [
              0.3333333333333333,
              "#9c179e"
             ],
             [
              0.4444444444444444,
              "#bd3786"
             ],
             [
              0.5555555555555556,
              "#d8576b"
             ],
             [
              0.6666666666666666,
              "#ed7953"
             ],
             [
              0.7777777777777778,
              "#fb9f3a"
             ],
             [
              0.8888888888888888,
              "#fdca26"
             ],
             [
              1,
              "#f0f921"
             ]
            ],
            "type": "heatmapgl"
           }
          ],
          "histogram": [
           {
            "marker": {
             "colorbar": {
              "outlinewidth": 0,
              "ticks": ""
             }
            },
            "type": "histogram"
           }
          ],
          "histogram2d": [
           {
            "colorbar": {
             "outlinewidth": 0,
             "ticks": ""
            },
            "colorscale": [
             [
              0,
              "#0d0887"
             ],
             [
              0.1111111111111111,
              "#46039f"
             ],
             [
              0.2222222222222222,
              "#7201a8"
             ],
             [
              0.3333333333333333,
              "#9c179e"
             ],
             [
              0.4444444444444444,
              "#bd3786"
             ],
             [
              0.5555555555555556,
              "#d8576b"
             ],
             [
              0.6666666666666666,
              "#ed7953"
             ],
             [
              0.7777777777777778,
              "#fb9f3a"
             ],
             [
              0.8888888888888888,
              "#fdca26"
             ],
             [
              1,
              "#f0f921"
             ]
            ],
            "type": "histogram2d"
           }
          ],
          "histogram2dcontour": [
           {
            "colorbar": {
             "outlinewidth": 0,
             "ticks": ""
            },
            "colorscale": [
             [
              0,
              "#0d0887"
             ],
             [
              0.1111111111111111,
              "#46039f"
             ],
             [
              0.2222222222222222,
              "#7201a8"
             ],
             [
              0.3333333333333333,
              "#9c179e"
             ],
             [
              0.4444444444444444,
              "#bd3786"
             ],
             [
              0.5555555555555556,
              "#d8576b"
             ],
             [
              0.6666666666666666,
              "#ed7953"
             ],
             [
              0.7777777777777778,
              "#fb9f3a"
             ],
             [
              0.8888888888888888,
              "#fdca26"
             ],
             [
              1,
              "#f0f921"
             ]
            ],
            "type": "histogram2dcontour"
           }
          ],
          "mesh3d": [
           {
            "colorbar": {
             "outlinewidth": 0,
             "ticks": ""
            },
            "type": "mesh3d"
           }
          ],
          "parcoords": [
           {
            "line": {
             "colorbar": {
              "outlinewidth": 0,
              "ticks": ""
             }
            },
            "type": "parcoords"
           }
          ],
          "pie": [
           {
            "automargin": true,
            "type": "pie"
           }
          ],
          "scatter": [
           {
            "marker": {
             "colorbar": {
              "outlinewidth": 0,
              "ticks": ""
             }
            },
            "type": "scatter"
           }
          ],
          "scatter3d": [
           {
            "line": {
             "colorbar": {
              "outlinewidth": 0,
              "ticks": ""
             }
            },
            "marker": {
             "colorbar": {
              "outlinewidth": 0,
              "ticks": ""
             }
            },
            "type": "scatter3d"
           }
          ],
          "scattercarpet": [
           {
            "marker": {
             "colorbar": {
              "outlinewidth": 0,
              "ticks": ""
             }
            },
            "type": "scattercarpet"
           }
          ],
          "scattergeo": [
           {
            "marker": {
             "colorbar": {
              "outlinewidth": 0,
              "ticks": ""
             }
            },
            "type": "scattergeo"
           }
          ],
          "scattergl": [
           {
            "marker": {
             "colorbar": {
              "outlinewidth": 0,
              "ticks": ""
             }
            },
            "type": "scattergl"
           }
          ],
          "scattermapbox": [
           {
            "marker": {
             "colorbar": {
              "outlinewidth": 0,
              "ticks": ""
             }
            },
            "type": "scattermapbox"
           }
          ],
          "scatterpolar": [
           {
            "marker": {
             "colorbar": {
              "outlinewidth": 0,
              "ticks": ""
             }
            },
            "type": "scatterpolar"
           }
          ],
          "scatterpolargl": [
           {
            "marker": {
             "colorbar": {
              "outlinewidth": 0,
              "ticks": ""
             }
            },
            "type": "scatterpolargl"
           }
          ],
          "scatterternary": [
           {
            "marker": {
             "colorbar": {
              "outlinewidth": 0,
              "ticks": ""
             }
            },
            "type": "scatterternary"
           }
          ],
          "surface": [
           {
            "colorbar": {
             "outlinewidth": 0,
             "ticks": ""
            },
            "colorscale": [
             [
              0,
              "#0d0887"
             ],
             [
              0.1111111111111111,
              "#46039f"
             ],
             [
              0.2222222222222222,
              "#7201a8"
             ],
             [
              0.3333333333333333,
              "#9c179e"
             ],
             [
              0.4444444444444444,
              "#bd3786"
             ],
             [
              0.5555555555555556,
              "#d8576b"
             ],
             [
              0.6666666666666666,
              "#ed7953"
             ],
             [
              0.7777777777777778,
              "#fb9f3a"
             ],
             [
              0.8888888888888888,
              "#fdca26"
             ],
             [
              1,
              "#f0f921"
             ]
            ],
            "type": "surface"
           }
          ],
          "table": [
           {
            "cells": {
             "fill": {
              "color": "#EBF0F8"
             },
             "line": {
              "color": "white"
             }
            },
            "header": {
             "fill": {
              "color": "#C8D4E3"
             },
             "line": {
              "color": "white"
             }
            },
            "type": "table"
           }
          ]
         },
         "layout": {
          "annotationdefaults": {
           "arrowcolor": "#2a3f5f",
           "arrowhead": 0,
           "arrowwidth": 1
          },
          "coloraxis": {
           "colorbar": {
            "outlinewidth": 0,
            "ticks": ""
           }
          },
          "colorscale": {
           "diverging": [
            [
             0,
             "#8e0152"
            ],
            [
             0.1,
             "#c51b7d"
            ],
            [
             0.2,
             "#de77ae"
            ],
            [
             0.3,
             "#f1b6da"
            ],
            [
             0.4,
             "#fde0ef"
            ],
            [
             0.5,
             "#f7f7f7"
            ],
            [
             0.6,
             "#e6f5d0"
            ],
            [
             0.7,
             "#b8e186"
            ],
            [
             0.8,
             "#7fbc41"
            ],
            [
             0.9,
             "#4d9221"
            ],
            [
             1,
             "#276419"
            ]
           ],
           "sequential": [
            [
             0,
             "#0d0887"
            ],
            [
             0.1111111111111111,
             "#46039f"
            ],
            [
             0.2222222222222222,
             "#7201a8"
            ],
            [
             0.3333333333333333,
             "#9c179e"
            ],
            [
             0.4444444444444444,
             "#bd3786"
            ],
            [
             0.5555555555555556,
             "#d8576b"
            ],
            [
             0.6666666666666666,
             "#ed7953"
            ],
            [
             0.7777777777777778,
             "#fb9f3a"
            ],
            [
             0.8888888888888888,
             "#fdca26"
            ],
            [
             1,
             "#f0f921"
            ]
           ],
           "sequentialminus": [
            [
             0,
             "#0d0887"
            ],
            [
             0.1111111111111111,
             "#46039f"
            ],
            [
             0.2222222222222222,
             "#7201a8"
            ],
            [
             0.3333333333333333,
             "#9c179e"
            ],
            [
             0.4444444444444444,
             "#bd3786"
            ],
            [
             0.5555555555555556,
             "#d8576b"
            ],
            [
             0.6666666666666666,
             "#ed7953"
            ],
            [
             0.7777777777777778,
             "#fb9f3a"
            ],
            [
             0.8888888888888888,
             "#fdca26"
            ],
            [
             1,
             "#f0f921"
            ]
           ]
          },
          "colorway": [
           "#636efa",
           "#EF553B",
           "#00cc96",
           "#ab63fa",
           "#FFA15A",
           "#19d3f3",
           "#FF6692",
           "#B6E880",
           "#FF97FF",
           "#FECB52"
          ],
          "font": {
           "color": "#2a3f5f"
          },
          "geo": {
           "bgcolor": "white",
           "lakecolor": "white",
           "landcolor": "#E5ECF6",
           "showlakes": true,
           "showland": true,
           "subunitcolor": "white"
          },
          "hoverlabel": {
           "align": "left"
          },
          "hovermode": "closest",
          "mapbox": {
           "style": "light"
          },
          "paper_bgcolor": "white",
          "plot_bgcolor": "#E5ECF6",
          "polar": {
           "angularaxis": {
            "gridcolor": "white",
            "linecolor": "white",
            "ticks": ""
           },
           "bgcolor": "#E5ECF6",
           "radialaxis": {
            "gridcolor": "white",
            "linecolor": "white",
            "ticks": ""
           }
          },
          "scene": {
           "xaxis": {
            "backgroundcolor": "#E5ECF6",
            "gridcolor": "white",
            "gridwidth": 2,
            "linecolor": "white",
            "showbackground": true,
            "ticks": "",
            "zerolinecolor": "white"
           },
           "yaxis": {
            "backgroundcolor": "#E5ECF6",
            "gridcolor": "white",
            "gridwidth": 2,
            "linecolor": "white",
            "showbackground": true,
            "ticks": "",
            "zerolinecolor": "white"
           },
           "zaxis": {
            "backgroundcolor": "#E5ECF6",
            "gridcolor": "white",
            "gridwidth": 2,
            "linecolor": "white",
            "showbackground": true,
            "ticks": "",
            "zerolinecolor": "white"
           }
          },
          "shapedefaults": {
           "line": {
            "color": "#2a3f5f"
           }
          },
          "ternary": {
           "aaxis": {
            "gridcolor": "white",
            "linecolor": "white",
            "ticks": ""
           },
           "baxis": {
            "gridcolor": "white",
            "linecolor": "white",
            "ticks": ""
           },
           "bgcolor": "#E5ECF6",
           "caxis": {
            "gridcolor": "white",
            "linecolor": "white",
            "ticks": ""
           }
          },
          "title": {
           "x": 0.05
          },
          "xaxis": {
           "automargin": true,
           "gridcolor": "white",
           "linecolor": "white",
           "ticks": "",
           "title": {
            "standoff": 15
           },
           "zerolinecolor": "white",
           "zerolinewidth": 2
          },
          "yaxis": {
           "automargin": true,
           "gridcolor": "white",
           "linecolor": "white",
           "ticks": "",
           "title": {
            "standoff": 15
           },
           "zerolinecolor": "white",
           "zerolinewidth": 2
          }
         }
        },
        "title": {
         "text": "Effect of UBI on poverty among adults with disabilities"
        },
        "updatemenus": [
         {
          "buttons": [
           {
            "args": [
             null,
             {
              "frame": {
               "duration": 500,
               "redraw": true
              },
              "fromcurrent": true,
              "mode": "immediate",
              "transition": {
               "duration": 500,
               "easing": "linear"
              }
             }
            ],
            "label": "&#9654;",
            "method": "animate"
           },
           {
            "args": [
             [
              null
             ],
             {
              "frame": {
               "duration": 0,
               "redraw": true
              },
              "fromcurrent": true,
              "mode": "immediate",
              "transition": {
               "duration": 0,
               "easing": "linear"
              }
             }
            ],
            "label": "&#9724;",
            "method": "animate"
           }
          ],
          "direction": "left",
          "pad": {
           "r": 10,
           "t": 70
          },
          "showactive": false,
          "type": "buttons",
          "x": 0.1,
          "xanchor": "right",
          "y": 0,
          "yanchor": "top"
         }
        ],
        "xaxis": {
         "anchor": "y",
         "domain": [
          0,
          1
         ],
         "range": [
          0,
          25
         ],
         "ticksuffix": "%",
         "title": {
          "text": "SPM poverty rate"
         }
        },
        "yaxis": {
         "anchor": "x",
         "domain": [
          0,
          1
         ],
         "title": {
          "text": "Disability type"
         }
        }
       }
      }
     },
     "metadata": {},
     "output_type": "display_data"
    }
   ],
   "source": [
    "\n",
    "# Determine the poverty rate impact for Americans with disabilities of a UBI from $0 per month to $1000 per month\n",
    "\n",
    "def pwd_pov(type_of_disability, monthly_ubi=0):\n",
    "    target_persons = adults[adults[type_of_disability]==1].copy(deep=True)\n",
    "    target_persons['total_ubi'] = person.spm_numper * monthly_ubi * 12\n",
    "    target_persons['new_spm_resources'] = (target_persons.total_ubi\n",
    "                                           + target_persons.spm_resources)\n",
    "    target_persons['poor'] = (target_persons.new_spm_resources \n",
    "                              < target_persons.spm_povthreshold)\n",
    "    population_target = target_persons.weight.sum()\n",
    "    total_target_poor = (target_persons.poor * target_persons.weight).sum()\n",
    "    total_pov_rate = total_target_poor / population_target\n",
    "\n",
    "    return (total_pov_rate * 100).round(1)\n",
    "\n",
    "def pwd_pov_row(row):\n",
    "    return pwd_pov(row.type_of_disability, row.monthly_ubi)\n",
    "\n",
    "# Create a dataframe that summarizes the outputs of the function\n",
    "\n",
    "summary = mdf.cartesian_product({'type_of_disability':PWD_MAP,\n",
    "                       'monthly_ubi': np.arange(0,1001,100)})\n",
    "\n",
    "summary['poverty_rate'] = summary.apply(pwd_pov_row, axis=1)\n",
    "summary['disability_type'] = summary.type_of_disability.map(PWD_MAP)\n",
    "summary = (summary.sort_values(['poverty_rate','disability_type'],\n",
    "                               ascending=(False, True)))\n",
    "\n",
    "# Add new rows for the difference between original and current (w/UBI) pov.\n",
    "original_pov = summary[summary.monthly_ubi == 0].copy(deep=True)\n",
    "original_pov.drop(['monthly_ubi', 'disability_type'], axis=1, inplace=True)\n",
    "original_pov.rename(columns = {'poverty_rate': 'original_poverty_rate'},\n",
    "                    inplace=True)\n",
    "summary = summary.merge(original_pov, on='type_of_disability')\n",
    "\n",
    "# Calculate the difference\n",
    "summary['poverty_delta'] = (summary.original_poverty_rate -\n",
    "                            summary.poverty_rate).round(1)\n",
    "\n",
    "SUM_MAP = ({'poverty_rate': 'People in poverty',\n",
    "            'poverty_delta': 'People no longer in poverty'})\n",
    "\n",
    "summary_long = summary.melt(id_vars=['disability_type', 'monthly_ubi',\n",
    "                                     'original_poverty_rate'],\n",
    "                            value_vars=['poverty_rate', 'poverty_delta'])\n",
    "summary_long['poverty_in_out'] = summary_long.variable.map(SUM_MAP)\n",
    "summary_long.sort_values(['original_poverty_rate', 'monthly_ubi'],\n",
    "                         ascending=[True, True], inplace=True)\n",
    "\n",
    "fig = px.bar(summary_long, x='value', y='disability_type',\n",
    "             color='poverty_in_out',\n",
    "             animation_frame='monthly_ubi', range_x=[0,25],\n",
    "             labels={\"value\": \"SPM poverty rate\",\n",
    "                     \"disability_type\": \"Disability type\",\n",
    "                     \"monthly_ubi\": \"Monthly UBI\"\n",
    "                    },\n",
    "             title='Effect of UBI on poverty among adults with disabilities',\n",
    "             orientation='h',\n",
    "             color_discrete_map={'People in poverty': BLUE,\n",
    "                                 'People no longer in poverty': BARELY_BLUE\n",
    "                                }\n",
    "             )\n",
    "\n",
    "fig.update_layout(xaxis_ticksuffix='%',\n",
    "                  plot_bgcolor='white',\n",
    "                  font=dict(family='Roboto'),\n",
    "                  legend_title_text=''\n",
    "                 )\n",
    "\n",
    "fig.show(config={'displayModeBar': False})"
   ]
  },
  {
   "cell_type": "markdown",
   "metadata": {},
   "source": [
    "## Conclusion\n",
    "This research fits a growing trend, that stripping benefits of their bureaucracy, and making payments truly universal, is often the simplest way to reach target groups.  Programs that impose administrative burdens will continue to miss many Americans with disabilities, while a UBI will not.  Still, it is important to acknowledge that cash transfers alone are not sufficient in protecting the rights of Americans with disabilities and that  we should follow disability rights advocates in the fight for equal access to healthcare, transportation, independent living, and more workplace portections.   But reducing poverty among people with disabilities is a worthy goal of its own, and our analysis shows that a UBI would be a powerful tool in accomplishing that aim."
   ]
  }
 ],
 "metadata": {
  "celltoolbar": "Tags",
  "colab": {
   "name": "Disability and UBI 2",
   "provenance": []
  },
  "kernelspec": {
   "display_name": "Python 3",
   "language": "python",
   "name": "python3"
  },
  "language_info": {
   "codemirror_mode": {
    "name": "ipython",
    "version": 3
   },
   "file_extension": ".py",
   "mimetype": "text/x-python",
   "name": "python",
   "nbconvert_exporter": "python",
   "pygments_lexer": "ipython3",
   "version": "3.7.0"
  }
 },
 "nbformat": 4,
 "nbformat_minor": 1
}
