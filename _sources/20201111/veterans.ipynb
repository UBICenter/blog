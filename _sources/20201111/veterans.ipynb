{
 "cells": [
  {
   "cell_type": "markdown",
   "metadata": {},
   "source": [
    "Today we honor [over 19 million Americans](https://www.va.gov/vetdata/veteran_population.asp) who have served in the military, of whom one in 13 is in poverty. This is a third lower than the poverty rate among non-Veterans, thanks to [higher incomes](https://www.pewresearch.org/fact-tank/2019/12/09/veteran-households-in-u-s-are-economically-better-off-than-those-of-non-veterans/) and Veteran benefits, but still amounts to over 1.4 million people who lack resources to cover basic needs. Universal basic income would help.\n",
    "\n",
    "Existing assistance programs cut Veteran poverty substantially. [Two million Veterans](https://www.cbpp.org/blog/veterans-and-the-safety-net-0) receive refundable tax credits---the Earned Income Tax Credit and the refundable portion of the Child Tax Credit---and [1.3 million](https://www.cbpp.org/research/food-assistance/snap-helps-13-million-low-income-veterans-including-thousands-in-every) receive SNAP (formerly food stamps). Certain veteran households are also eligible to receive [up to \\$36,387](https://www.va.gov/pension/veterans-pension-rates/) per year through the [Veterans Pension](https://www.va.gov/pension/eligibility/) program, depending on their household size, income, net worth, age, service period, and disability status. Veterans with disabilities related to their active-duty service can also receive up to $44,208 per year, depending on their household size and severity of their disability through the [Veterans Disability Compensation](https://www.va.gov/disability/compensation-rates/veteran-rates/) program. The [Veterans Benefit Administration](https://benefits.va.gov/benefits/) provides a number of other benefits around health, education, and other areas, especially for [elderly Veterans](https://www.benefits.va.gov/persona/veteran-elderly.asp).\n",
    "\n",
    "Yet these programs fail to reach all Veterans in need. As the Department of Veterans Affairs [found](https://www.va.gov/vetdata/docs/specialreports/veteran_poverty_trends.pdf) in 2012, veterans with disabilities have a higher official poverty rate than non-veterans with disabilities for all age groups except over age 65, and [half of Veterans](https://www.va.gov/vetdata/docs/Quickfacts/VA_Utilization_Profile_2017.pdf) don't use VA programs. [20 percent of Veterans](https://www.bls.gov/opub/ted/2016/43-point-3-percent-of-veterans-with-a-service-connected-disability-were-employed-in-august-2015.htm#:~:text=Bureau%20of%20Labor%20Statistics,-The%20Economics%20Daily&text=In%20August%202015%2C%20about%204.3,all%20veterans%20was%2047.8%20percent.) have a service-connected disability, and as we [wrote in July](https://blog.ubicenter.org/20200731/ada30.html), one in five people with disabilities is in poverty---nearly double the rate of people without disabilities. In that analysis, we also showed that a \\$300-per-month universal basic income (UBI) would halve poverty among people with disabilities. What would UBI do for all Veterans?\n",
    "\n",
    "In this analysis, we modeled a UBI funded by a flat tax on adjusted gross income (AGI). In this model, every $100 monthly UBI requires a 3.3 percent tax on AGI. To fund a \\$300-per-month UBI, the federal government would have to levy a 9.8 percent tax. But like we found in the disability analysis, this would also reduce Veteran poverty by half. Poverty among children in Veteran households would be cut by 60 percent."
   ]
  },
  {
   "cell_type": "code",
   "execution_count": 5,
   "metadata": {
    "id": "zFTnf0YBDQwr"
   },
   "outputs": [
    {
     "data": {
      "application/vnd.plotly.v1+json": {
       "config": {
        "plotlyServerURL": "https://plot.ly"
       },
       "data": [
        {
         "legendgroup": "Veterans",
         "line": {
          "color": "#1976D2",
          "dash": "solid"
         },
         "mode": "markers+lines",
         "name": "Veterans",
         "orientation": "v",
         "showlegend": true,
         "type": "scatter",
         "x": [
          0,
          50,
          100,
          150,
          200,
          250,
          300,
          350,
          400,
          450,
          500,
          550,
          600,
          650,
          700,
          750,
          800,
          850,
          900,
          950,
          1000
         ],
         "xaxis": "x",
         "y": [
          7.6,
          6.9,
          6,
          5.3,
          4.7,
          4.2,
          3.8,
          3.6,
          3.3,
          3,
          2.7,
          2.5,
          2.2,
          2,
          1.8,
          1.5,
          1.3,
          1.2,
          1.1,
          1,
          0.9
         ],
         "yaxis": "y"
        },
        {
         "legendgroup": "Non-Veteran adults",
         "line": {
          "color": "#9E9E9E",
          "dash": "solid"
         },
         "mode": "markers+lines",
         "name": "Non-Veteran adults",
         "orientation": "v",
         "showlegend": true,
         "type": "scatter",
         "x": [
          0,
          50,
          100,
          150,
          200,
          250,
          300,
          350,
          400,
          450,
          500,
          550,
          600,
          650,
          700,
          750,
          800,
          850,
          900,
          950,
          1000
         ],
         "xaxis": "x",
         "y": [
          11.8,
          10.6,
          9.5,
          8.5,
          7.5,
          6.8,
          6,
          5.4,
          4.9,
          4.4,
          4,
          3.6,
          3.2,
          2.9,
          2.6,
          2.4,
          2.2,
          1.9,
          1.7,
          1.5,
          1.4
         ],
         "yaxis": "y"
        },
        {
         "legendgroup": "Children in Veteran households",
         "line": {
          "color": "#64B5F6",
          "dash": "solid"
         },
         "mode": "markers+lines",
         "name": "Children in Veteran households",
         "orientation": "v",
         "showlegend": true,
         "type": "scatter",
         "visible": "legendonly",
         "x": [
          0,
          50,
          100,
          150,
          200,
          250,
          300,
          350,
          400,
          450,
          500,
          550,
          600,
          650,
          700,
          750,
          800,
          850,
          900,
          950,
          1000
         ],
         "xaxis": "x",
         "y": [
          5.5,
          4.8,
          3.7,
          3.4,
          2.9,
          2.5,
          2.3,
          1.8,
          1.5,
          1.3,
          0.9,
          0.7,
          0.6,
          0.5,
          0.4,
          0.2,
          0.2,
          0.2,
          0.2,
          0.2,
          0.2
         ],
         "yaxis": "y"
        },
        {
         "legendgroup": "Children in non-Veteran households",
         "line": {
          "color": "#E0E0E0",
          "dash": "solid"
         },
         "mode": "markers+lines",
         "name": "Children in non-Veteran households",
         "orientation": "v",
         "showlegend": true,
         "type": "scatter",
         "visible": "legendonly",
         "x": [
          0,
          50,
          100,
          150,
          200,
          250,
          300,
          350,
          400,
          450,
          500,
          550,
          600,
          650,
          700,
          750,
          800,
          850,
          900,
          950,
          1000
         ],
         "xaxis": "x",
         "y": [
          13,
          10.8,
          8.9,
          7.3,
          5.9,
          4.7,
          3.9,
          3.2,
          2.5,
          1.9,
          1.6,
          1.3,
          1,
          0.7,
          0.6,
          0.5,
          0.4,
          0.3,
          0.3,
          0.2,
          0.2
         ],
         "yaxis": "y"
        }
       ],
       "layout": {
        "font": {
         "family": "Roboto"
        },
        "hovermode": "x",
        "legend": {
         "title": {
          "text": ""
         },
         "tracegroupgap": 0
        },
        "margin": {
         "t": 60
        },
        "plot_bgcolor": "white",
        "template": {
         "data": {
          "bar": [
           {
            "error_x": {
             "color": "#2a3f5f"
            },
            "error_y": {
             "color": "#2a3f5f"
            },
            "marker": {
             "line": {
              "color": "#E5ECF6",
              "width": 0.5
             }
            },
            "type": "bar"
           }
          ],
          "barpolar": [
           {
            "marker": {
             "line": {
              "color": "#E5ECF6",
              "width": 0.5
             }
            },
            "type": "barpolar"
           }
          ],
          "carpet": [
           {
            "aaxis": {
             "endlinecolor": "#2a3f5f",
             "gridcolor": "white",
             "linecolor": "white",
             "minorgridcolor": "white",
             "startlinecolor": "#2a3f5f"
            },
            "baxis": {
             "endlinecolor": "#2a3f5f",
             "gridcolor": "white",
             "linecolor": "white",
             "minorgridcolor": "white",
             "startlinecolor": "#2a3f5f"
            },
            "type": "carpet"
           }
          ],
          "choropleth": [
           {
            "colorbar": {
             "outlinewidth": 0,
             "ticks": ""
            },
            "type": "choropleth"
           }
          ],
          "contour": [
           {
            "colorbar": {
             "outlinewidth": 0,
             "ticks": ""
            },
            "colorscale": [
             [
              0,
              "#0d0887"
             ],
             [
              0.1111111111111111,
              "#46039f"
             ],
             [
              0.2222222222222222,
              "#7201a8"
             ],
             [
              0.3333333333333333,
              "#9c179e"
             ],
             [
              0.4444444444444444,
              "#bd3786"
             ],
             [
              0.5555555555555556,
              "#d8576b"
             ],
             [
              0.6666666666666666,
              "#ed7953"
             ],
             [
              0.7777777777777778,
              "#fb9f3a"
             ],
             [
              0.8888888888888888,
              "#fdca26"
             ],
             [
              1,
              "#f0f921"
             ]
            ],
            "type": "contour"
           }
          ],
          "contourcarpet": [
           {
            "colorbar": {
             "outlinewidth": 0,
             "ticks": ""
            },
            "type": "contourcarpet"
           }
          ],
          "heatmap": [
           {
            "colorbar": {
             "outlinewidth": 0,
             "ticks": ""
            },
            "colorscale": [
             [
              0,
              "#0d0887"
             ],
             [
              0.1111111111111111,
              "#46039f"
             ],
             [
              0.2222222222222222,
              "#7201a8"
             ],
             [
              0.3333333333333333,
              "#9c179e"
             ],
             [
              0.4444444444444444,
              "#bd3786"
             ],
             [
              0.5555555555555556,
              "#d8576b"
             ],
             [
              0.6666666666666666,
              "#ed7953"
             ],
             [
              0.7777777777777778,
              "#fb9f3a"
             ],
             [
              0.8888888888888888,
              "#fdca26"
             ],
             [
              1,
              "#f0f921"
             ]
            ],
            "type": "heatmap"
           }
          ],
          "heatmapgl": [
           {
            "colorbar": {
             "outlinewidth": 0,
             "ticks": ""
            },
            "colorscale": [
             [
              0,
              "#0d0887"
             ],
             [
              0.1111111111111111,
              "#46039f"
             ],
             [
              0.2222222222222222,
              "#7201a8"
             ],
             [
              0.3333333333333333,
              "#9c179e"
             ],
             [
              0.4444444444444444,
              "#bd3786"
             ],
             [
              0.5555555555555556,
              "#d8576b"
             ],
             [
              0.6666666666666666,
              "#ed7953"
             ],
             [
              0.7777777777777778,
              "#fb9f3a"
             ],
             [
              0.8888888888888888,
              "#fdca26"
             ],
             [
              1,
              "#f0f921"
             ]
            ],
            "type": "heatmapgl"
           }
          ],
          "histogram": [
           {
            "marker": {
             "colorbar": {
              "outlinewidth": 0,
              "ticks": ""
             }
            },
            "type": "histogram"
           }
          ],
          "histogram2d": [
           {
            "colorbar": {
             "outlinewidth": 0,
             "ticks": ""
            },
            "colorscale": [
             [
              0,
              "#0d0887"
             ],
             [
              0.1111111111111111,
              "#46039f"
             ],
             [
              0.2222222222222222,
              "#7201a8"
             ],
             [
              0.3333333333333333,
              "#9c179e"
             ],
             [
              0.4444444444444444,
              "#bd3786"
             ],
             [
              0.5555555555555556,
              "#d8576b"
             ],
             [
              0.6666666666666666,
              "#ed7953"
             ],
             [
              0.7777777777777778,
              "#fb9f3a"
             ],
             [
              0.8888888888888888,
              "#fdca26"
             ],
             [
              1,
              "#f0f921"
             ]
            ],
            "type": "histogram2d"
           }
          ],
          "histogram2dcontour": [
           {
            "colorbar": {
             "outlinewidth": 0,
             "ticks": ""
            },
            "colorscale": [
             [
              0,
              "#0d0887"
             ],
             [
              0.1111111111111111,
              "#46039f"
             ],
             [
              0.2222222222222222,
              "#7201a8"
             ],
             [
              0.3333333333333333,
              "#9c179e"
             ],
             [
              0.4444444444444444,
              "#bd3786"
             ],
             [
              0.5555555555555556,
              "#d8576b"
             ],
             [
              0.6666666666666666,
              "#ed7953"
             ],
             [
              0.7777777777777778,
              "#fb9f3a"
             ],
             [
              0.8888888888888888,
              "#fdca26"
             ],
             [
              1,
              "#f0f921"
             ]
            ],
            "type": "histogram2dcontour"
           }
          ],
          "mesh3d": [
           {
            "colorbar": {
             "outlinewidth": 0,
             "ticks": ""
            },
            "type": "mesh3d"
           }
          ],
          "parcoords": [
           {
            "line": {
             "colorbar": {
              "outlinewidth": 0,
              "ticks": ""
             }
            },
            "type": "parcoords"
           }
          ],
          "pie": [
           {
            "automargin": true,
            "type": "pie"
           }
          ],
          "scatter": [
           {
            "marker": {
             "colorbar": {
              "outlinewidth": 0,
              "ticks": ""
             }
            },
            "type": "scatter"
           }
          ],
          "scatter3d": [
           {
            "line": {
             "colorbar": {
              "outlinewidth": 0,
              "ticks": ""
             }
            },
            "marker": {
             "colorbar": {
              "outlinewidth": 0,
              "ticks": ""
             }
            },
            "type": "scatter3d"
           }
          ],
          "scattercarpet": [
           {
            "marker": {
             "colorbar": {
              "outlinewidth": 0,
              "ticks": ""
             }
            },
            "type": "scattercarpet"
           }
          ],
          "scattergeo": [
           {
            "marker": {
             "colorbar": {
              "outlinewidth": 0,
              "ticks": ""
             }
            },
            "type": "scattergeo"
           }
          ],
          "scattergl": [
           {
            "marker": {
             "colorbar": {
              "outlinewidth": 0,
              "ticks": ""
             }
            },
            "type": "scattergl"
           }
          ],
          "scattermapbox": [
           {
            "marker": {
             "colorbar": {
              "outlinewidth": 0,
              "ticks": ""
             }
            },
            "type": "scattermapbox"
           }
          ],
          "scatterpolar": [
           {
            "marker": {
             "colorbar": {
              "outlinewidth": 0,
              "ticks": ""
             }
            },
            "type": "scatterpolar"
           }
          ],
          "scatterpolargl": [
           {
            "marker": {
             "colorbar": {
              "outlinewidth": 0,
              "ticks": ""
             }
            },
            "type": "scatterpolargl"
           }
          ],
          "scatterternary": [
           {
            "marker": {
             "colorbar": {
              "outlinewidth": 0,
              "ticks": ""
             }
            },
            "type": "scatterternary"
           }
          ],
          "surface": [
           {
            "colorbar": {
             "outlinewidth": 0,
             "ticks": ""
            },
            "colorscale": [
             [
              0,
              "#0d0887"
             ],
             [
              0.1111111111111111,
              "#46039f"
             ],
             [
              0.2222222222222222,
              "#7201a8"
             ],
             [
              0.3333333333333333,
              "#9c179e"
             ],
             [
              0.4444444444444444,
              "#bd3786"
             ],
             [
              0.5555555555555556,
              "#d8576b"
             ],
             [
              0.6666666666666666,
              "#ed7953"
             ],
             [
              0.7777777777777778,
              "#fb9f3a"
             ],
             [
              0.8888888888888888,
              "#fdca26"
             ],
             [
              1,
              "#f0f921"
             ]
            ],
            "type": "surface"
           }
          ],
          "table": [
           {
            "cells": {
             "fill": {
              "color": "#EBF0F8"
             },
             "line": {
              "color": "white"
             }
            },
            "header": {
             "fill": {
              "color": "#C8D4E3"
             },
             "line": {
              "color": "white"
             }
            },
            "type": "table"
           }
          ]
         },
         "layout": {
          "annotationdefaults": {
           "arrowcolor": "#2a3f5f",
           "arrowhead": 0,
           "arrowwidth": 1
          },
          "coloraxis": {
           "colorbar": {
            "outlinewidth": 0,
            "ticks": ""
           }
          },
          "colorscale": {
           "diverging": [
            [
             0,
             "#8e0152"
            ],
            [
             0.1,
             "#c51b7d"
            ],
            [
             0.2,
             "#de77ae"
            ],
            [
             0.3,
             "#f1b6da"
            ],
            [
             0.4,
             "#fde0ef"
            ],
            [
             0.5,
             "#f7f7f7"
            ],
            [
             0.6,
             "#e6f5d0"
            ],
            [
             0.7,
             "#b8e186"
            ],
            [
             0.8,
             "#7fbc41"
            ],
            [
             0.9,
             "#4d9221"
            ],
            [
             1,
             "#276419"
            ]
           ],
           "sequential": [
            [
             0,
             "#0d0887"
            ],
            [
             0.1111111111111111,
             "#46039f"
            ],
            [
             0.2222222222222222,
             "#7201a8"
            ],
            [
             0.3333333333333333,
             "#9c179e"
            ],
            [
             0.4444444444444444,
             "#bd3786"
            ],
            [
             0.5555555555555556,
             "#d8576b"
            ],
            [
             0.6666666666666666,
             "#ed7953"
            ],
            [
             0.7777777777777778,
             "#fb9f3a"
            ],
            [
             0.8888888888888888,
             "#fdca26"
            ],
            [
             1,
             "#f0f921"
            ]
           ],
           "sequentialminus": [
            [
             0,
             "#0d0887"
            ],
            [
             0.1111111111111111,
             "#46039f"
            ],
            [
             0.2222222222222222,
             "#7201a8"
            ],
            [
             0.3333333333333333,
             "#9c179e"
            ],
            [
             0.4444444444444444,
             "#bd3786"
            ],
            [
             0.5555555555555556,
             "#d8576b"
            ],
            [
             0.6666666666666666,
             "#ed7953"
            ],
            [
             0.7777777777777778,
             "#fb9f3a"
            ],
            [
             0.8888888888888888,
             "#fdca26"
            ],
            [
             1,
             "#f0f921"
            ]
           ]
          },
          "colorway": [
           "#636efa",
           "#EF553B",
           "#00cc96",
           "#ab63fa",
           "#FFA15A",
           "#19d3f3",
           "#FF6692",
           "#B6E880",
           "#FF97FF",
           "#FECB52"
          ],
          "font": {
           "color": "#2a3f5f"
          },
          "geo": {
           "bgcolor": "white",
           "lakecolor": "white",
           "landcolor": "#E5ECF6",
           "showlakes": true,
           "showland": true,
           "subunitcolor": "white"
          },
          "hoverlabel": {
           "align": "left"
          },
          "hovermode": "closest",
          "mapbox": {
           "style": "light"
          },
          "paper_bgcolor": "white",
          "plot_bgcolor": "#E5ECF6",
          "polar": {
           "angularaxis": {
            "gridcolor": "white",
            "linecolor": "white",
            "ticks": ""
           },
           "bgcolor": "#E5ECF6",
           "radialaxis": {
            "gridcolor": "white",
            "linecolor": "white",
            "ticks": ""
           }
          },
          "scene": {
           "xaxis": {
            "backgroundcolor": "#E5ECF6",
            "gridcolor": "white",
            "gridwidth": 2,
            "linecolor": "white",
            "showbackground": true,
            "ticks": "",
            "zerolinecolor": "white"
           },
           "yaxis": {
            "backgroundcolor": "#E5ECF6",
            "gridcolor": "white",
            "gridwidth": 2,
            "linecolor": "white",
            "showbackground": true,
            "ticks": "",
            "zerolinecolor": "white"
           },
           "zaxis": {
            "backgroundcolor": "#E5ECF6",
            "gridcolor": "white",
            "gridwidth": 2,
            "linecolor": "white",
            "showbackground": true,
            "ticks": "",
            "zerolinecolor": "white"
           }
          },
          "shapedefaults": {
           "line": {
            "color": "#2a3f5f"
           }
          },
          "ternary": {
           "aaxis": {
            "gridcolor": "white",
            "linecolor": "white",
            "ticks": ""
           },
           "baxis": {
            "gridcolor": "white",
            "linecolor": "white",
            "ticks": ""
           },
           "bgcolor": "#E5ECF6",
           "caxis": {
            "gridcolor": "white",
            "linecolor": "white",
            "ticks": ""
           }
          },
          "title": {
           "x": 0.05
          },
          "xaxis": {
           "automargin": true,
           "gridcolor": "white",
           "linecolor": "white",
           "ticks": "",
           "title": {
            "standoff": 15
           },
           "zerolinecolor": "white",
           "zerolinewidth": 2
          },
          "yaxis": {
           "automargin": true,
           "gridcolor": "white",
           "linecolor": "white",
           "ticks": "",
           "title": {
            "standoff": 15
           },
           "zerolinecolor": "white",
           "zerolinewidth": 2
          }
         }
        },
        "title": {
         "text": "The impact of a UBI on Veterans and their families"
        },
        "xaxis": {
         "anchor": "y",
         "domain": [
          0,
          1
         ],
         "tickprefix": "$",
         "ticksuffix": "",
         "title": {
          "text": "Monthly UBI"
         }
        },
        "yaxis": {
         "anchor": "x",
         "domain": [
          0,
          1
         ],
         "ticksuffix": "%",
         "title": {
          "text": "SPM poverty rate"
         }
        }
       }
      },
      "text/html": [
       "<div>\n",
       "        \n",
       "        \n",
       "            <div id=\"b9ed6452-a017-4726-acc3-81d74da09002\" class=\"plotly-graph-div\" style=\"height:525px; width:100%;\"></div>\n",
       "            <script type=\"text/javascript\">\n",
       "                require([\"plotly\"], function(Plotly) {\n",
       "                    window.PLOTLYENV=window.PLOTLYENV || {};\n",
       "                    \n",
       "                if (document.getElementById(\"b9ed6452-a017-4726-acc3-81d74da09002\")) {\n",
       "                    Plotly.newPlot(\n",
       "                        'b9ed6452-a017-4726-acc3-81d74da09002',\n",
       "                        [{\"legendgroup\": \"Veterans\", \"line\": {\"color\": \"#1976D2\", \"dash\": \"solid\"}, \"mode\": \"markers+lines\", \"name\": \"Veterans\", \"orientation\": \"v\", \"showlegend\": true, \"type\": \"scatter\", \"x\": [0, 50, 100, 150, 200, 250, 300, 350, 400, 450, 500, 550, 600, 650, 700, 750, 800, 850, 900, 950, 1000], \"xaxis\": \"x\", \"y\": [7.6, 6.9, 6.0, 5.3, 4.7, 4.2, 3.8, 3.6, 3.3, 3.0, 2.7, 2.5, 2.2, 2.0, 1.8, 1.5, 1.3, 1.2, 1.1, 1.0, 0.9], \"yaxis\": \"y\"}, {\"legendgroup\": \"Non-Veteran adults\", \"line\": {\"color\": \"#9E9E9E\", \"dash\": \"solid\"}, \"mode\": \"markers+lines\", \"name\": \"Non-Veteran adults\", \"orientation\": \"v\", \"showlegend\": true, \"type\": \"scatter\", \"x\": [0, 50, 100, 150, 200, 250, 300, 350, 400, 450, 500, 550, 600, 650, 700, 750, 800, 850, 900, 950, 1000], \"xaxis\": \"x\", \"y\": [11.8, 10.6, 9.5, 8.5, 7.5, 6.8, 6.0, 5.4, 4.9, 4.4, 4.0, 3.6, 3.2, 2.9, 2.6, 2.4, 2.2, 1.9, 1.7, 1.5, 1.4], \"yaxis\": \"y\"}, {\"legendgroup\": \"Children in Veteran households\", \"line\": {\"color\": \"#64B5F6\", \"dash\": \"solid\"}, \"mode\": \"markers+lines\", \"name\": \"Children in Veteran households\", \"orientation\": \"v\", \"showlegend\": true, \"type\": \"scatter\", \"visible\": \"legendonly\", \"x\": [0, 50, 100, 150, 200, 250, 300, 350, 400, 450, 500, 550, 600, 650, 700, 750, 800, 850, 900, 950, 1000], \"xaxis\": \"x\", \"y\": [5.5, 4.8, 3.7, 3.4, 2.9, 2.5, 2.3, 1.8, 1.5, 1.3, 0.9, 0.7, 0.6, 0.5, 0.4, 0.2, 0.2, 0.2, 0.2, 0.2, 0.2], \"yaxis\": \"y\"}, {\"legendgroup\": \"Children in non-Veteran households\", \"line\": {\"color\": \"#E0E0E0\", \"dash\": \"solid\"}, \"mode\": \"markers+lines\", \"name\": \"Children in non-Veteran households\", \"orientation\": \"v\", \"showlegend\": true, \"type\": \"scatter\", \"visible\": \"legendonly\", \"x\": [0, 50, 100, 150, 200, 250, 300, 350, 400, 450, 500, 550, 600, 650, 700, 750, 800, 850, 900, 950, 1000], \"xaxis\": \"x\", \"y\": [13.0, 10.8, 8.9, 7.3, 5.9, 4.7, 3.9, 3.2, 2.5, 1.9, 1.6, 1.3, 1.0, 0.7, 0.6, 0.5, 0.4, 0.3, 0.3, 0.2, 0.2], \"yaxis\": \"y\"}],\n",
       "                        {\"font\": {\"family\": \"Roboto\"}, \"hovermode\": \"x\", \"legend\": {\"title\": {\"text\": \"\"}, \"tracegroupgap\": 0}, \"margin\": {\"t\": 60}, \"plot_bgcolor\": \"white\", \"template\": {\"data\": {\"bar\": [{\"error_x\": {\"color\": \"#2a3f5f\"}, \"error_y\": {\"color\": \"#2a3f5f\"}, \"marker\": {\"line\": {\"color\": \"#E5ECF6\", \"width\": 0.5}}, \"type\": \"bar\"}], \"barpolar\": [{\"marker\": {\"line\": {\"color\": \"#E5ECF6\", \"width\": 0.5}}, \"type\": \"barpolar\"}], \"carpet\": [{\"aaxis\": {\"endlinecolor\": \"#2a3f5f\", \"gridcolor\": \"white\", \"linecolor\": \"white\", \"minorgridcolor\": \"white\", \"startlinecolor\": \"#2a3f5f\"}, \"baxis\": {\"endlinecolor\": \"#2a3f5f\", \"gridcolor\": \"white\", \"linecolor\": \"white\", \"minorgridcolor\": \"white\", \"startlinecolor\": \"#2a3f5f\"}, \"type\": \"carpet\"}], \"choropleth\": [{\"colorbar\": {\"outlinewidth\": 0, \"ticks\": \"\"}, \"type\": \"choropleth\"}], \"contour\": [{\"colorbar\": {\"outlinewidth\": 0, \"ticks\": \"\"}, \"colorscale\": [[0.0, \"#0d0887\"], [0.1111111111111111, \"#46039f\"], [0.2222222222222222, \"#7201a8\"], [0.3333333333333333, \"#9c179e\"], [0.4444444444444444, \"#bd3786\"], [0.5555555555555556, \"#d8576b\"], [0.6666666666666666, \"#ed7953\"], [0.7777777777777778, \"#fb9f3a\"], [0.8888888888888888, \"#fdca26\"], [1.0, \"#f0f921\"]], \"type\": \"contour\"}], \"contourcarpet\": [{\"colorbar\": {\"outlinewidth\": 0, \"ticks\": \"\"}, \"type\": \"contourcarpet\"}], \"heatmap\": [{\"colorbar\": {\"outlinewidth\": 0, \"ticks\": \"\"}, \"colorscale\": [[0.0, \"#0d0887\"], [0.1111111111111111, \"#46039f\"], [0.2222222222222222, \"#7201a8\"], [0.3333333333333333, \"#9c179e\"], [0.4444444444444444, \"#bd3786\"], [0.5555555555555556, \"#d8576b\"], [0.6666666666666666, \"#ed7953\"], [0.7777777777777778, \"#fb9f3a\"], [0.8888888888888888, \"#fdca26\"], [1.0, \"#f0f921\"]], \"type\": \"heatmap\"}], \"heatmapgl\": [{\"colorbar\": {\"outlinewidth\": 0, \"ticks\": \"\"}, \"colorscale\": [[0.0, \"#0d0887\"], [0.1111111111111111, \"#46039f\"], [0.2222222222222222, \"#7201a8\"], [0.3333333333333333, \"#9c179e\"], [0.4444444444444444, \"#bd3786\"], [0.5555555555555556, \"#d8576b\"], [0.6666666666666666, \"#ed7953\"], [0.7777777777777778, \"#fb9f3a\"], [0.8888888888888888, \"#fdca26\"], [1.0, \"#f0f921\"]], \"type\": \"heatmapgl\"}], \"histogram\": [{\"marker\": {\"colorbar\": {\"outlinewidth\": 0, \"ticks\": \"\"}}, \"type\": \"histogram\"}], \"histogram2d\": [{\"colorbar\": {\"outlinewidth\": 0, \"ticks\": \"\"}, \"colorscale\": [[0.0, \"#0d0887\"], [0.1111111111111111, \"#46039f\"], [0.2222222222222222, \"#7201a8\"], [0.3333333333333333, \"#9c179e\"], [0.4444444444444444, \"#bd3786\"], [0.5555555555555556, \"#d8576b\"], [0.6666666666666666, \"#ed7953\"], [0.7777777777777778, \"#fb9f3a\"], [0.8888888888888888, \"#fdca26\"], [1.0, \"#f0f921\"]], \"type\": \"histogram2d\"}], \"histogram2dcontour\": [{\"colorbar\": {\"outlinewidth\": 0, \"ticks\": \"\"}, \"colorscale\": [[0.0, \"#0d0887\"], [0.1111111111111111, \"#46039f\"], [0.2222222222222222, \"#7201a8\"], [0.3333333333333333, \"#9c179e\"], [0.4444444444444444, \"#bd3786\"], [0.5555555555555556, \"#d8576b\"], [0.6666666666666666, \"#ed7953\"], [0.7777777777777778, \"#fb9f3a\"], [0.8888888888888888, \"#fdca26\"], [1.0, \"#f0f921\"]], \"type\": \"histogram2dcontour\"}], \"mesh3d\": [{\"colorbar\": {\"outlinewidth\": 0, \"ticks\": \"\"}, \"type\": \"mesh3d\"}], \"parcoords\": [{\"line\": {\"colorbar\": {\"outlinewidth\": 0, \"ticks\": \"\"}}, \"type\": \"parcoords\"}], \"pie\": [{\"automargin\": true, \"type\": \"pie\"}], \"scatter\": [{\"marker\": {\"colorbar\": {\"outlinewidth\": 0, \"ticks\": \"\"}}, \"type\": \"scatter\"}], \"scatter3d\": [{\"line\": {\"colorbar\": {\"outlinewidth\": 0, \"ticks\": \"\"}}, \"marker\": {\"colorbar\": {\"outlinewidth\": 0, \"ticks\": \"\"}}, \"type\": \"scatter3d\"}], \"scattercarpet\": [{\"marker\": {\"colorbar\": {\"outlinewidth\": 0, \"ticks\": \"\"}}, \"type\": \"scattercarpet\"}], \"scattergeo\": [{\"marker\": {\"colorbar\": {\"outlinewidth\": 0, \"ticks\": \"\"}}, \"type\": \"scattergeo\"}], \"scattergl\": [{\"marker\": {\"colorbar\": {\"outlinewidth\": 0, \"ticks\": \"\"}}, \"type\": \"scattergl\"}], \"scattermapbox\": [{\"marker\": {\"colorbar\": {\"outlinewidth\": 0, \"ticks\": \"\"}}, \"type\": \"scattermapbox\"}], \"scatterpolar\": [{\"marker\": {\"colorbar\": {\"outlinewidth\": 0, \"ticks\": \"\"}}, \"type\": \"scatterpolar\"}], \"scatterpolargl\": [{\"marker\": {\"colorbar\": {\"outlinewidth\": 0, \"ticks\": \"\"}}, \"type\": \"scatterpolargl\"}], \"scatterternary\": [{\"marker\": {\"colorbar\": {\"outlinewidth\": 0, \"ticks\": \"\"}}, \"type\": \"scatterternary\"}], \"surface\": [{\"colorbar\": {\"outlinewidth\": 0, \"ticks\": \"\"}, \"colorscale\": [[0.0, \"#0d0887\"], [0.1111111111111111, \"#46039f\"], [0.2222222222222222, \"#7201a8\"], [0.3333333333333333, \"#9c179e\"], [0.4444444444444444, \"#bd3786\"], [0.5555555555555556, \"#d8576b\"], [0.6666666666666666, \"#ed7953\"], [0.7777777777777778, \"#fb9f3a\"], [0.8888888888888888, \"#fdca26\"], [1.0, \"#f0f921\"]], \"type\": \"surface\"}], \"table\": [{\"cells\": {\"fill\": {\"color\": \"#EBF0F8\"}, \"line\": {\"color\": \"white\"}}, \"header\": {\"fill\": {\"color\": \"#C8D4E3\"}, \"line\": {\"color\": \"white\"}}, \"type\": \"table\"}]}, \"layout\": {\"annotationdefaults\": {\"arrowcolor\": \"#2a3f5f\", \"arrowhead\": 0, \"arrowwidth\": 1}, \"coloraxis\": {\"colorbar\": {\"outlinewidth\": 0, \"ticks\": \"\"}}, \"colorscale\": {\"diverging\": [[0, \"#8e0152\"], [0.1, \"#c51b7d\"], [0.2, \"#de77ae\"], [0.3, \"#f1b6da\"], [0.4, \"#fde0ef\"], [0.5, \"#f7f7f7\"], [0.6, \"#e6f5d0\"], [0.7, \"#b8e186\"], [0.8, \"#7fbc41\"], [0.9, \"#4d9221\"], [1, \"#276419\"]], \"sequential\": [[0.0, \"#0d0887\"], [0.1111111111111111, \"#46039f\"], [0.2222222222222222, \"#7201a8\"], [0.3333333333333333, \"#9c179e\"], [0.4444444444444444, \"#bd3786\"], [0.5555555555555556, \"#d8576b\"], [0.6666666666666666, \"#ed7953\"], [0.7777777777777778, \"#fb9f3a\"], [0.8888888888888888, \"#fdca26\"], [1.0, \"#f0f921\"]], \"sequentialminus\": [[0.0, \"#0d0887\"], [0.1111111111111111, \"#46039f\"], [0.2222222222222222, \"#7201a8\"], [0.3333333333333333, \"#9c179e\"], [0.4444444444444444, \"#bd3786\"], [0.5555555555555556, \"#d8576b\"], [0.6666666666666666, \"#ed7953\"], [0.7777777777777778, \"#fb9f3a\"], [0.8888888888888888, \"#fdca26\"], [1.0, \"#f0f921\"]]}, \"colorway\": [\"#636efa\", \"#EF553B\", \"#00cc96\", \"#ab63fa\", \"#FFA15A\", \"#19d3f3\", \"#FF6692\", \"#B6E880\", \"#FF97FF\", \"#FECB52\"], \"font\": {\"color\": \"#2a3f5f\"}, \"geo\": {\"bgcolor\": \"white\", \"lakecolor\": \"white\", \"landcolor\": \"#E5ECF6\", \"showlakes\": true, \"showland\": true, \"subunitcolor\": \"white\"}, \"hoverlabel\": {\"align\": \"left\"}, \"hovermode\": \"closest\", \"mapbox\": {\"style\": \"light\"}, \"paper_bgcolor\": \"white\", \"plot_bgcolor\": \"#E5ECF6\", \"polar\": {\"angularaxis\": {\"gridcolor\": \"white\", \"linecolor\": \"white\", \"ticks\": \"\"}, \"bgcolor\": \"#E5ECF6\", \"radialaxis\": {\"gridcolor\": \"white\", \"linecolor\": \"white\", \"ticks\": \"\"}}, \"scene\": {\"xaxis\": {\"backgroundcolor\": \"#E5ECF6\", \"gridcolor\": \"white\", \"gridwidth\": 2, \"linecolor\": \"white\", \"showbackground\": true, \"ticks\": \"\", \"zerolinecolor\": \"white\"}, \"yaxis\": {\"backgroundcolor\": \"#E5ECF6\", \"gridcolor\": \"white\", \"gridwidth\": 2, \"linecolor\": \"white\", \"showbackground\": true, \"ticks\": \"\", \"zerolinecolor\": \"white\"}, \"zaxis\": {\"backgroundcolor\": \"#E5ECF6\", \"gridcolor\": \"white\", \"gridwidth\": 2, \"linecolor\": \"white\", \"showbackground\": true, \"ticks\": \"\", \"zerolinecolor\": \"white\"}}, \"shapedefaults\": {\"line\": {\"color\": \"#2a3f5f\"}}, \"ternary\": {\"aaxis\": {\"gridcolor\": \"white\", \"linecolor\": \"white\", \"ticks\": \"\"}, \"baxis\": {\"gridcolor\": \"white\", \"linecolor\": \"white\", \"ticks\": \"\"}, \"bgcolor\": \"#E5ECF6\", \"caxis\": {\"gridcolor\": \"white\", \"linecolor\": \"white\", \"ticks\": \"\"}}, \"title\": {\"x\": 0.05}, \"xaxis\": {\"automargin\": true, \"gridcolor\": \"white\", \"linecolor\": \"white\", \"ticks\": \"\", \"title\": {\"standoff\": 15}, \"zerolinecolor\": \"white\", \"zerolinewidth\": 2}, \"yaxis\": {\"automargin\": true, \"gridcolor\": \"white\", \"linecolor\": \"white\", \"ticks\": \"\", \"title\": {\"standoff\": 15}, \"zerolinecolor\": \"white\", \"zerolinewidth\": 2}}}, \"title\": {\"text\": \"The impact of a UBI on Veterans and their families\"}, \"xaxis\": {\"anchor\": \"y\", \"domain\": [0.0, 1.0], \"tickprefix\": \"$\", \"ticksuffix\": \"\", \"title\": {\"text\": \"Monthly UBI\"}}, \"yaxis\": {\"anchor\": \"x\", \"domain\": [0.0, 1.0], \"ticksuffix\": \"%\", \"title\": {\"text\": \"SPM poverty rate\"}}},\n",
       "                        {\"responsive\": true}\n",
       "                    ).then(function(){\n",
       "                            \n",
       "var gd = document.getElementById('b9ed6452-a017-4726-acc3-81d74da09002');\n",
       "var x = new MutationObserver(function (mutations, observer) {{\n",
       "        var display = window.getComputedStyle(gd).display;\n",
       "        if (!display || display === 'none') {{\n",
       "            console.log([gd, 'removed!']);\n",
       "            Plotly.purge(gd);\n",
       "            observer.disconnect();\n",
       "        }}\n",
       "}});\n",
       "\n",
       "// Listen for the removal of the full notebook cells\n",
       "var notebookContainer = gd.closest('#notebook-container');\n",
       "if (notebookContainer) {{\n",
       "    x.observe(notebookContainer, {childList: true});\n",
       "}}\n",
       "\n",
       "// Listen for the clearing of the current output cell\n",
       "var outputEl = gd.closest('.output');\n",
       "if (outputEl) {{\n",
       "    x.observe(outputEl, {childList: true});\n",
       "}}\n",
       "\n",
       "                        })\n",
       "                };\n",
       "                });\n",
       "            </script>\n",
       "        </div>"
      ]
     },
     "metadata": {},
     "output_type": "display_data"
    }
   ],
   "source": [
    "# Import Libraries\n",
    "import numpy as np\n",
    "import pandas as pd\n",
    "import microdf as mdf\n",
    "import plotly.express as px\n",
    "\n",
    "# Import data\n",
    "raw = pd.read_csv('https://github.com/UBICenter/Veteran-s_Day/raw/main/VeteranData.gz')\n",
    "\n",
    "# Create Demographic Columns\n",
    "person = raw.copy(deep=True)\n",
    "person.columns = person.columns.str.lower()\n",
    "person['child'] = person.age < 18\n",
    "person['adult'] = person.age >= 18\n",
    "person['veteran'] = (person.vetstat == 2) & person.adult\n",
    "person['non_veteran'] = (person.vetstat == 1) & person.adult\n",
    "\n",
    "veterans = person.groupby(['spmfamunit'])[['veteran']].sum()\n",
    "veterans.columns = ['total_veterans']\n",
    "person = person.merge(veterans, on=['spmfamunit'], right_index=True)\n",
    "\n",
    "person['child_with_vet'] = (person.child) & (person.total_veterans > 0)\n",
    "person['child_with_no_vet'] = (person.child) & (person.total_veterans == 0)\n",
    "\n",
    "# Show total veterans in millions\n",
    "total_veterans = (person.veteran * person.asecwt).sum()\n",
    "total_veterans / 1_000_000\n",
    "\n",
    "# Calculate total AGI\n",
    "person['adjginc'].replace({99999999: 0}, inplace=True)\n",
    "population = person.asecwt.sum()\n",
    "person['weighted_agi'] = person.adjginc * person.asecwt\n",
    "total_agi = person.weighted_agi.sum()\n",
    "\n",
    "# Calculate AGI tax rate per dollar of UBI\n",
    "fed_tax_rate_per_dollar_ubi_monthly = (population * 12) / total_agi\n",
    "\n",
    "# Create table showing tax amounts\n",
    "tax_rates = pd.DataFrame(np.arange(0,1001, 50))\n",
    "tax_rates.columns = ['monthly_ubi']\n",
    "\n",
    "def tax(monthly_ubi):\n",
    "    return (monthly_ubi * fed_tax_rate_per_dollar_ubi_monthly * 100).round(1)\n",
    "\n",
    "def tax_row(row):\n",
    "    return tax(row.monthly_ubi)\n",
    "\n",
    "tax_rates['tax_rate'] = tax_rates.apply(tax_row, axis=1)\n",
    "tax_rates.columns = ['Monthly UBI', \"Flat Tax Rate on AGI\"]\n",
    "\n",
    "def ubi(status, monthly_ubi):\n",
    "    \"\"\"At a given UBI level, calculate the poverty rate, median resources,\n",
    "    mean resources, and percent of people better off for:\n",
    "    * Veterans\n",
    "    * Non-Veterans\n",
    "    * Children living with Veteran\n",
    "    * Children not living with Veterans\n",
    "  \n",
    "    Args:\n",
    "        status: A person's Veteran status.\n",
    "            For this simulation their are 4 categories:\n",
    "            * Veteran\n",
    "            * Non-Veteran\n",
    "            * Child living with a Veteran\n",
    "            * Children not living with a Veteran\n",
    "        monthly_ubi: the monthly cash transfer given to each person\n",
    "  \n",
    "    Returns:\n",
    "        pandas Series with four elements for the selected group:\n",
    "        * Poverty rate\n",
    "        * Median resources per person\n",
    "        * Mean resources per person\n",
    "        * Percent of people better off\n",
    "    \"\"\"    \n",
    "\n",
    "  \n",
    "    # Create a copy of the person DataFrame\n",
    "    target_persons = person.copy(deep=True)\n",
    "    \n",
    "    # Calculate a person's tax increase\n",
    "    target_persons['tax_increase'] = (\n",
    "        fed_tax_rate_per_dollar_ubi_monthly * monthly_ubi *\n",
    "        target_persons.adjginc)\n",
    "    \n",
    "    # Calculate the total UBI per SPM unit.\n",
    "    target_persons['total_ubi'] = (\n",
    "        target_persons.spmnpers * 12 * monthly_ubi)\n",
    "  \n",
    "    # Calculate the total tax increase of an SPM unit\n",
    "    spmu = target_persons.groupby(['spmfamunit'])[['tax_increase']].sum()\n",
    "    spmu.columns = ['total_tax_increase']\n",
    "    target_persons = target_persons.merge(spmu,left_on=['spmfamunit'],\n",
    "                                          right_index=True)\n",
    "    \n",
    "    # Calculate each SPM unit's tax rate person\n",
    "    target_persons['new_spm_resources'] = (target_persons.spmtotres\n",
    "                                         + target_persons.total_ubi\n",
    "                                         - target_persons.total_tax_increase)\n",
    "    \n",
    "    # Calculate the new resources per person of each SPM unit\n",
    "    target_persons['new_resources_per_person'] = (\n",
    "        target_persons.new_spm_resources / target_persons.spmnpers)\n",
    "      \n",
    "    # Slice the data based on Race input\n",
    "    if status == 'veteran':\n",
    "        target_persons = target_persons[target_persons.veteran]\n",
    "    if status == 'non_veteran':\n",
    "        target_persons = target_persons[target_persons.non_veteran]\n",
    "        \n",
    "    \n",
    "    if status == 'veteran_child':\n",
    "        target_persons = target_persons[target_persons.child_with_vet]\n",
    "    if status == 'non_veteran_child':\n",
    "        target_persons = target_persons[target_persons.child_with_no_vet]\n",
    "        \n",
    "  \n",
    "    # Calculate the change in poverty rate\n",
    "    target_persons['poor'] = (target_persons.new_spm_resources \n",
    "                            < target_persons.spmthresh)\n",
    "    total_poor = (target_persons.poor * target_persons.asecwt).sum()\n",
    "    target_pop = target_persons.asecwt.sum()\n",
    "    \n",
    "    # Calculate percent better off\n",
    "    target_persons['better_off'] = (target_persons.new_spm_resources > \n",
    "                                target_persons.spmtotres)\n",
    "    total_better_off = (\n",
    "        target_persons.better_off * target_persons.asecwt).sum()\n",
    "    percent = total_better_off / target_pop * 100\n",
    "\n",
    "    return pd.Series([mdf.weighted_median(\n",
    "        target_persons, 'new_resources_per_person', 'asecwt').round(0),\n",
    "                      mdf.weighted_mean(target_persons,\n",
    "                                        'new_resources_per_person',\n",
    "                                        'asecwt').round(0), \n",
    "                      (total_poor / target_pop * 100).round(1), percent])\n",
    "\n",
    "def ubi_row(row):  \n",
    "    \"\"\" run the ubi function across the rows of a DataFrame.\n",
    "  \n",
    "    Arguments\n",
    "    row: the row of the DataFrame containing a person's race and the monthly UBI amount\n",
    "  \n",
    "    Returns\n",
    "    The poverty rate for the selected row.\n",
    "    The median resources per person for the selected row.\n",
    "    The mean resources per person for the selected row.\n",
    "    The percent of people better off under the program for the selected row.\n",
    "    \"\"\"  \n",
    "    return ubi(row.status, row.monthly_ubi)\n",
    "\n",
    "# Create a DataFrame that has each the each monthly UBI amount for each race input\n",
    "summary = mdf.cartesian_product({'monthly_ubi': np.arange(0,1001,50),\n",
    "                       'status': ['veteran', 'non_veteran', 'veteran_child',\n",
    "                                  'non_veteran_child']})\n",
    "\n",
    "# Calculate the poverty rate for each row of the summary DataFrame\n",
    "summary[['med_resources_per_person', 'mean_resources_per_person',\n",
    "         'poverty_rate', 'better_off']] = summary.apply(ubi_row, axis=1)\n",
    "\n",
    "summary2 = summary[summary['status'] != 'non_veteran_child'] \n",
    "summary2 = summary2[summary2['status'] != 'veteran_child']\n",
    "# Format text\n",
    "center = {\"med_resources_per_person\": \"Median resources\",\n",
    "          \"mean_resources_per_person\": \"Mean resources\"}\n",
    "status = {\"veteran\": \"Veterans\",\n",
    "          \"non_veteran\": \"Non-Veteran adults\",\n",
    "          \"veteran_child\": \"Children in Veteran households\",\n",
    "          \"non_veteran_child\": \"Children in non-Veteran households\"\n",
    "       }\n",
    "\n",
    "summary[\"status\"] =  summary[\"status\"].map(status)\n",
    "summary2[\"status\"] =  summary2[\"status\"].map(status)\n",
    "\n",
    "# Colors from https://material.io/design/color/the-color-system.html\n",
    "BLUE = '#1976D2'\n",
    "DARK_BLUE = '#0D47A1'\n",
    "BARELY_BLUE = '#64B5F6'\n",
    "GRAY = '#9E9E9E'\n",
    "LIGHT_GRAY = '#E0E0E0'\n",
    "\n",
    "COLOR_MAP = {\n",
    "    \"Veterans\": BLUE,\n",
    "    \"Non-Veteran adults\": GRAY,\n",
    "    \"Children in Veteran households\": BARELY_BLUE,\n",
    "    \"Children in non-Veteran households\": LIGHT_GRAY\n",
    "}\n",
    "\n",
    "def line_graph(df, x, y, color, title, xaxis_title, yaxis_title):\n",
    "    \"\"\"Style for line graphs.\n",
    "    \n",
    "    Args:\n",
    "        df: DataFrame with data to be plotted.\n",
    "        x: The string representing the column in df that holds the new\n",
    "            spending in billions.\n",
    "        y: The string representing the column in df that holds the poverty\n",
    "            rate.\n",
    "        color: The string representing the UBI type.\n",
    "        xaxis_title: The string represnting the xaxis-title.\n",
    "        yaxis_title: The string representing the yaxis-title.\n",
    "    \n",
    "    Returns:\n",
    "        Nothing. Shows the plot.\n",
    "    \"\"\"\n",
    "    fig = px.line(df, x=x, y=y, color=color, color_discrete_map=COLOR_MAP)\n",
    "    fig.update_layout(\n",
    "        title=title,\n",
    "        xaxis_title=xaxis_title,\n",
    "        yaxis_title=yaxis_title,\n",
    "        yaxis_ticksuffix='%',\n",
    "        font=dict(family='Roboto'),\n",
    "        hovermode='x', \n",
    "        xaxis_tickprefix='$',\n",
    "        xaxis_ticksuffix='',\n",
    "        plot_bgcolor='white',\n",
    "        legend_title_text=''   \n",
    "    )\n",
    "    fig.update_traces(mode='markers+lines', hovertemplate=None)\n",
    "    \n",
    "    hide_line = [\"Children in Veteran households\",\n",
    "                 \"Children in non-Veteran households\"]\n",
    "    \n",
    "    fig.for_each_trace(lambda trace: trace.update(visible=\"legendonly\") \n",
    "                   if trace.name in hide_line else ())\n",
    "\n",
    "    fig.show()\n",
    "\n",
    "line_graph(df=summary, x='monthly_ubi', \n",
    "           y='poverty_rate', color='status',\n",
    "           title= 'The impact of a UBI on Veterans and their families',\n",
    "           xaxis_title='Monthly UBI',\n",
    "           yaxis_title='SPM poverty rate')"
   ]
  },
  {
   "cell_type": "markdown",
   "metadata": {},
   "source": [
    "Studies suggest that reducing Veteran poverty could address issues disproportionately experienced by Veterans. [Over 37,000 Veterans](https://www.hud.gov/press/press_releases_media_advisories/HUD_No_19_163) experience homelessness on a given night, and a recent experiment in Canada found that [cash transfers accelerated](https://forsocialchange.org/our-story) transitions out of homelessness. Veterans have a higher rate of [mental illness](https://www.ncbi.nlm.nih.gov/pmc/articles/PMC4638236/), especially depression, PTSD, and substance abuse disorder, while Finland's UBI experiment [improved mental health](https://twitter.com/TheUBICenter/status/1258064957406511104). Controlling for age and sex, the Veteran suicide rate exceeds the non-Veteran suicide rate by [50 percent](https://www.mentalhealth.va.gov/docs/data-sheets/2019/2019_National_Veteran_Suicide_Prevention_Annual_Report_508.pdf), and a review of cash transfer programs in low- and middle-income countries found [significant suicide reductions](https://mbrg.bsg.ox.ac.uk/sites/default/files/2020-05/the_role_of_cash_transfers_in_preventing_suicides_in_lmics_1.pdf).\n",
    "\n",
    "The unique Veteran experience warrants investment in tailored solutions, such as the health and education programs offered by the VA. Cash transfers like universal basic income can also reduce their incidence of poverty and empower them to meet their individual needs. Even modest basic incomes such as a tax-funded \\$300 per month would halve Veteran poverty and more than halve poverty among children of Veterans, improving poverty-linked outcomes for those who have served."
   ]
  }
 ],
 "metadata": {
  "colab": {
   "name": "Veteran's Day",
   "provenance": []
  },
  "kernelspec": {
   "display_name": "Python 3",
   "language": "python",
   "name": "python3"
  },
  "language_info": {
   "codemirror_mode": {
    "name": "ipython",
    "version": 3
   },
   "file_extension": ".py",
   "mimetype": "text/x-python",
   "name": "python",
   "nbconvert_exporter": "python",
   "pygments_lexer": "ipython3",
   "version": "3.7.9"
  }
 },
 "nbformat": 4,
 "nbformat_minor": 1
}
